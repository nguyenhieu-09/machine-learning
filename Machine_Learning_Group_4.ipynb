{
  "nbformat": 4,
  "nbformat_minor": 0,
  "metadata": {
    "colab": {
      "provenance": [],
      "include_colab_link": true
    },
    "kernelspec": {
      "name": "python3",
      "display_name": "Python 3"
    },
    "language_info": {
      "name": "python"
    }
  },
  "cells": [
    {
      "cell_type": "markdown",
      "metadata": {
        "id": "view-in-github",
        "colab_type": "text"
      },
      "source": [
        "<a href=\"https://colab.research.google.com/github/nguyenhieu-09/machine-learning/blob/main/Machine_Learning_Group_4.ipynb\" target=\"_parent\"><img src=\"https://colab.research.google.com/assets/colab-badge.svg\" alt=\"Open In Colab\"/></a>"
      ]
    },
    {
      "cell_type": "code",
      "execution_count": null,
      "metadata": {
        "id": "vLmbvhnLIfD1"
      },
      "outputs": [],
      "source": [
        "# Following Libraries are being used\n",
        "import pandas as pd\n",
        "import numpy as np\n",
        "import seaborn as sns\n",
        "import matplotlib.pyplot as plt\n",
        "\n",
        "from sklearn import linear_model #For missing values\n",
        "from sklearn.preprocessing import StandardScaler #For scaling features\n",
        "\n",
        "from sklearn.model_selection import train_test_split\n",
        "from sklearn.metrics import mean_squared_error\n",
        "from sklearn.ensemble import RandomForestRegressor #Random Forest Regressor\n",
        "from sklearn.ensemble import BaggingRegressor #Bagging Regressor\n",
        "from sklearn.neighbors import KNeighborsRegressor #KNN Regressor\n",
        "from sklearn.linear_model import LinearRegression #Linear Regressor"
      ]
    },
    {
      "cell_type": "code",
      "source": [
        "# Tải dữ liệu\n",
        "df = pd.read_csv('/content/googleplaystore.csv')\n",
        "df.head()"
      ],
      "metadata": {
        "colab": {
          "base_uri": "https://localhost:8080/",
          "height": 431
        },
        "id": "8d_1plKQIpuD",
        "outputId": "a522ea86-28ab-4b7d-b114-e95a7ca5ba8c"
      },
      "execution_count": null,
      "outputs": [
        {
          "output_type": "execute_result",
          "data": {
            "text/plain": [
              "                                                 App        Category  Rating  \\\n",
              "0     Photo Editor & Candy Camera & Grid & ScrapBook  ART_AND_DESIGN     4.1   \n",
              "1                                Coloring book moana  ART_AND_DESIGN     3.9   \n",
              "2  U Launcher Lite – FREE Live Cool Themes, Hide ...  ART_AND_DESIGN     4.7   \n",
              "3                              Sketch - Draw & Paint  ART_AND_DESIGN     4.5   \n",
              "4              Pixel Draw - Number Art Coloring Book  ART_AND_DESIGN     4.3   \n",
              "\n",
              "  Reviews  Size     Installs  Type Price Content Rating  \\\n",
              "0     159   19M      10,000+  Free     0       Everyone   \n",
              "1     967   14M     500,000+  Free     0       Everyone   \n",
              "2   87510  8.7M   5,000,000+  Free     0       Everyone   \n",
              "3  215644   25M  50,000,000+  Free     0           Teen   \n",
              "4     967  2.8M     100,000+  Free     0       Everyone   \n",
              "\n",
              "                      Genres Last Updated         Current Ver   Android Ver  \n",
              "0               Art & Design     7-Jan-18               1.0.0  4.0.3 and up  \n",
              "1  Art & Design;Pretend Play    15-Jan-18               2.0.0  4.0.3 and up  \n",
              "2               Art & Design     1-Aug-18               1.2.4  4.0.3 and up  \n",
              "3               Art & Design     8-Jun-18  Varies with device    4.2 and up  \n",
              "4    Art & Design;Creativity    20-Jun-18                 1.1    4.4 and up  "
            ],
            "text/html": [
              "\n",
              "  <div id=\"df-1a109543-3a36-4523-8c8c-b694b1f46d3e\" class=\"colab-df-container\">\n",
              "    <div>\n",
              "<style scoped>\n",
              "    .dataframe tbody tr th:only-of-type {\n",
              "        vertical-align: middle;\n",
              "    }\n",
              "\n",
              "    .dataframe tbody tr th {\n",
              "        vertical-align: top;\n",
              "    }\n",
              "\n",
              "    .dataframe thead th {\n",
              "        text-align: right;\n",
              "    }\n",
              "</style>\n",
              "<table border=\"1\" class=\"dataframe\">\n",
              "  <thead>\n",
              "    <tr style=\"text-align: right;\">\n",
              "      <th></th>\n",
              "      <th>App</th>\n",
              "      <th>Category</th>\n",
              "      <th>Rating</th>\n",
              "      <th>Reviews</th>\n",
              "      <th>Size</th>\n",
              "      <th>Installs</th>\n",
              "      <th>Type</th>\n",
              "      <th>Price</th>\n",
              "      <th>Content Rating</th>\n",
              "      <th>Genres</th>\n",
              "      <th>Last Updated</th>\n",
              "      <th>Current Ver</th>\n",
              "      <th>Android Ver</th>\n",
              "    </tr>\n",
              "  </thead>\n",
              "  <tbody>\n",
              "    <tr>\n",
              "      <th>0</th>\n",
              "      <td>Photo Editor &amp; Candy Camera &amp; Grid &amp; ScrapBook</td>\n",
              "      <td>ART_AND_DESIGN</td>\n",
              "      <td>4.1</td>\n",
              "      <td>159</td>\n",
              "      <td>19M</td>\n",
              "      <td>10,000+</td>\n",
              "      <td>Free</td>\n",
              "      <td>0</td>\n",
              "      <td>Everyone</td>\n",
              "      <td>Art &amp; Design</td>\n",
              "      <td>7-Jan-18</td>\n",
              "      <td>1.0.0</td>\n",
              "      <td>4.0.3 and up</td>\n",
              "    </tr>\n",
              "    <tr>\n",
              "      <th>1</th>\n",
              "      <td>Coloring book moana</td>\n",
              "      <td>ART_AND_DESIGN</td>\n",
              "      <td>3.9</td>\n",
              "      <td>967</td>\n",
              "      <td>14M</td>\n",
              "      <td>500,000+</td>\n",
              "      <td>Free</td>\n",
              "      <td>0</td>\n",
              "      <td>Everyone</td>\n",
              "      <td>Art &amp; Design;Pretend Play</td>\n",
              "      <td>15-Jan-18</td>\n",
              "      <td>2.0.0</td>\n",
              "      <td>4.0.3 and up</td>\n",
              "    </tr>\n",
              "    <tr>\n",
              "      <th>2</th>\n",
              "      <td>U Launcher Lite – FREE Live Cool Themes, Hide ...</td>\n",
              "      <td>ART_AND_DESIGN</td>\n",
              "      <td>4.7</td>\n",
              "      <td>87510</td>\n",
              "      <td>8.7M</td>\n",
              "      <td>5,000,000+</td>\n",
              "      <td>Free</td>\n",
              "      <td>0</td>\n",
              "      <td>Everyone</td>\n",
              "      <td>Art &amp; Design</td>\n",
              "      <td>1-Aug-18</td>\n",
              "      <td>1.2.4</td>\n",
              "      <td>4.0.3 and up</td>\n",
              "    </tr>\n",
              "    <tr>\n",
              "      <th>3</th>\n",
              "      <td>Sketch - Draw &amp; Paint</td>\n",
              "      <td>ART_AND_DESIGN</td>\n",
              "      <td>4.5</td>\n",
              "      <td>215644</td>\n",
              "      <td>25M</td>\n",
              "      <td>50,000,000+</td>\n",
              "      <td>Free</td>\n",
              "      <td>0</td>\n",
              "      <td>Teen</td>\n",
              "      <td>Art &amp; Design</td>\n",
              "      <td>8-Jun-18</td>\n",
              "      <td>Varies with device</td>\n",
              "      <td>4.2 and up</td>\n",
              "    </tr>\n",
              "    <tr>\n",
              "      <th>4</th>\n",
              "      <td>Pixel Draw - Number Art Coloring Book</td>\n",
              "      <td>ART_AND_DESIGN</td>\n",
              "      <td>4.3</td>\n",
              "      <td>967</td>\n",
              "      <td>2.8M</td>\n",
              "      <td>100,000+</td>\n",
              "      <td>Free</td>\n",
              "      <td>0</td>\n",
              "      <td>Everyone</td>\n",
              "      <td>Art &amp; Design;Creativity</td>\n",
              "      <td>20-Jun-18</td>\n",
              "      <td>1.1</td>\n",
              "      <td>4.4 and up</td>\n",
              "    </tr>\n",
              "  </tbody>\n",
              "</table>\n",
              "</div>\n",
              "    <div class=\"colab-df-buttons\">\n",
              "\n",
              "  <div class=\"colab-df-container\">\n",
              "    <button class=\"colab-df-convert\" onclick=\"convertToInteractive('df-1a109543-3a36-4523-8c8c-b694b1f46d3e')\"\n",
              "            title=\"Convert this dataframe to an interactive table.\"\n",
              "            style=\"display:none;\">\n",
              "\n",
              "  <svg xmlns=\"http://www.w3.org/2000/svg\" height=\"24px\" viewBox=\"0 -960 960 960\">\n",
              "    <path d=\"M120-120v-720h720v720H120Zm60-500h600v-160H180v160Zm220 220h160v-160H400v160Zm0 220h160v-160H400v160ZM180-400h160v-160H180v160Zm440 0h160v-160H620v160ZM180-180h160v-160H180v160Zm440 0h160v-160H620v160Z\"/>\n",
              "  </svg>\n",
              "    </button>\n",
              "\n",
              "  <style>\n",
              "    .colab-df-container {\n",
              "      display:flex;\n",
              "      gap: 12px;\n",
              "    }\n",
              "\n",
              "    .colab-df-convert {\n",
              "      background-color: #E8F0FE;\n",
              "      border: none;\n",
              "      border-radius: 50%;\n",
              "      cursor: pointer;\n",
              "      display: none;\n",
              "      fill: #1967D2;\n",
              "      height: 32px;\n",
              "      padding: 0 0 0 0;\n",
              "      width: 32px;\n",
              "    }\n",
              "\n",
              "    .colab-df-convert:hover {\n",
              "      background-color: #E2EBFA;\n",
              "      box-shadow: 0px 1px 2px rgba(60, 64, 67, 0.3), 0px 1px 3px 1px rgba(60, 64, 67, 0.15);\n",
              "      fill: #174EA6;\n",
              "    }\n",
              "\n",
              "    .colab-df-buttons div {\n",
              "      margin-bottom: 4px;\n",
              "    }\n",
              "\n",
              "    [theme=dark] .colab-df-convert {\n",
              "      background-color: #3B4455;\n",
              "      fill: #D2E3FC;\n",
              "    }\n",
              "\n",
              "    [theme=dark] .colab-df-convert:hover {\n",
              "      background-color: #434B5C;\n",
              "      box-shadow: 0px 1px 3px 1px rgba(0, 0, 0, 0.15);\n",
              "      filter: drop-shadow(0px 1px 2px rgba(0, 0, 0, 0.3));\n",
              "      fill: #FFFFFF;\n",
              "    }\n",
              "  </style>\n",
              "\n",
              "    <script>\n",
              "      const buttonEl =\n",
              "        document.querySelector('#df-1a109543-3a36-4523-8c8c-b694b1f46d3e button.colab-df-convert');\n",
              "      buttonEl.style.display =\n",
              "        google.colab.kernel.accessAllowed ? 'block' : 'none';\n",
              "\n",
              "      async function convertToInteractive(key) {\n",
              "        const element = document.querySelector('#df-1a109543-3a36-4523-8c8c-b694b1f46d3e');\n",
              "        const dataTable =\n",
              "          await google.colab.kernel.invokeFunction('convertToInteractive',\n",
              "                                                    [key], {});\n",
              "        if (!dataTable) return;\n",
              "\n",
              "        const docLinkHtml = 'Like what you see? Visit the ' +\n",
              "          '<a target=\"_blank\" href=https://colab.research.google.com/notebooks/data_table.ipynb>data table notebook</a>'\n",
              "          + ' to learn more about interactive tables.';\n",
              "        element.innerHTML = '';\n",
              "        dataTable['output_type'] = 'display_data';\n",
              "        await google.colab.output.renderOutput(dataTable, element);\n",
              "        const docLink = document.createElement('div');\n",
              "        docLink.innerHTML = docLinkHtml;\n",
              "        element.appendChild(docLink);\n",
              "      }\n",
              "    </script>\n",
              "  </div>\n",
              "\n",
              "\n",
              "<div id=\"df-67f0bfd2-328e-4a22-b728-6456081e69ae\">\n",
              "  <button class=\"colab-df-quickchart\" onclick=\"quickchart('df-67f0bfd2-328e-4a22-b728-6456081e69ae')\"\n",
              "            title=\"Suggest charts\"\n",
              "            style=\"display:none;\">\n",
              "\n",
              "<svg xmlns=\"http://www.w3.org/2000/svg\" height=\"24px\"viewBox=\"0 0 24 24\"\n",
              "     width=\"24px\">\n",
              "    <g>\n",
              "        <path d=\"M19 3H5c-1.1 0-2 .9-2 2v14c0 1.1.9 2 2 2h14c1.1 0 2-.9 2-2V5c0-1.1-.9-2-2-2zM9 17H7v-7h2v7zm4 0h-2V7h2v10zm4 0h-2v-4h2v4z\"/>\n",
              "    </g>\n",
              "</svg>\n",
              "  </button>\n",
              "\n",
              "<style>\n",
              "  .colab-df-quickchart {\n",
              "      --bg-color: #E8F0FE;\n",
              "      --fill-color: #1967D2;\n",
              "      --hover-bg-color: #E2EBFA;\n",
              "      --hover-fill-color: #174EA6;\n",
              "      --disabled-fill-color: #AAA;\n",
              "      --disabled-bg-color: #DDD;\n",
              "  }\n",
              "\n",
              "  [theme=dark] .colab-df-quickchart {\n",
              "      --bg-color: #3B4455;\n",
              "      --fill-color: #D2E3FC;\n",
              "      --hover-bg-color: #434B5C;\n",
              "      --hover-fill-color: #FFFFFF;\n",
              "      --disabled-bg-color: #3B4455;\n",
              "      --disabled-fill-color: #666;\n",
              "  }\n",
              "\n",
              "  .colab-df-quickchart {\n",
              "    background-color: var(--bg-color);\n",
              "    border: none;\n",
              "    border-radius: 50%;\n",
              "    cursor: pointer;\n",
              "    display: none;\n",
              "    fill: var(--fill-color);\n",
              "    height: 32px;\n",
              "    padding: 0;\n",
              "    width: 32px;\n",
              "  }\n",
              "\n",
              "  .colab-df-quickchart:hover {\n",
              "    background-color: var(--hover-bg-color);\n",
              "    box-shadow: 0 1px 2px rgba(60, 64, 67, 0.3), 0 1px 3px 1px rgba(60, 64, 67, 0.15);\n",
              "    fill: var(--button-hover-fill-color);\n",
              "  }\n",
              "\n",
              "  .colab-df-quickchart-complete:disabled,\n",
              "  .colab-df-quickchart-complete:disabled:hover {\n",
              "    background-color: var(--disabled-bg-color);\n",
              "    fill: var(--disabled-fill-color);\n",
              "    box-shadow: none;\n",
              "  }\n",
              "\n",
              "  .colab-df-spinner {\n",
              "    border: 2px solid var(--fill-color);\n",
              "    border-color: transparent;\n",
              "    border-bottom-color: var(--fill-color);\n",
              "    animation:\n",
              "      spin 1s steps(1) infinite;\n",
              "  }\n",
              "\n",
              "  @keyframes spin {\n",
              "    0% {\n",
              "      border-color: transparent;\n",
              "      border-bottom-color: var(--fill-color);\n",
              "      border-left-color: var(--fill-color);\n",
              "    }\n",
              "    20% {\n",
              "      border-color: transparent;\n",
              "      border-left-color: var(--fill-color);\n",
              "      border-top-color: var(--fill-color);\n",
              "    }\n",
              "    30% {\n",
              "      border-color: transparent;\n",
              "      border-left-color: var(--fill-color);\n",
              "      border-top-color: var(--fill-color);\n",
              "      border-right-color: var(--fill-color);\n",
              "    }\n",
              "    40% {\n",
              "      border-color: transparent;\n",
              "      border-right-color: var(--fill-color);\n",
              "      border-top-color: var(--fill-color);\n",
              "    }\n",
              "    60% {\n",
              "      border-color: transparent;\n",
              "      border-right-color: var(--fill-color);\n",
              "    }\n",
              "    80% {\n",
              "      border-color: transparent;\n",
              "      border-right-color: var(--fill-color);\n",
              "      border-bottom-color: var(--fill-color);\n",
              "    }\n",
              "    90% {\n",
              "      border-color: transparent;\n",
              "      border-bottom-color: var(--fill-color);\n",
              "    }\n",
              "  }\n",
              "</style>\n",
              "\n",
              "  <script>\n",
              "    async function quickchart(key) {\n",
              "      const quickchartButtonEl =\n",
              "        document.querySelector('#' + key + ' button');\n",
              "      quickchartButtonEl.disabled = true;  // To prevent multiple clicks.\n",
              "      quickchartButtonEl.classList.add('colab-df-spinner');\n",
              "      try {\n",
              "        const charts = await google.colab.kernel.invokeFunction(\n",
              "            'suggestCharts', [key], {});\n",
              "      } catch (error) {\n",
              "        console.error('Error during call to suggestCharts:', error);\n",
              "      }\n",
              "      quickchartButtonEl.classList.remove('colab-df-spinner');\n",
              "      quickchartButtonEl.classList.add('colab-df-quickchart-complete');\n",
              "    }\n",
              "    (() => {\n",
              "      let quickchartButtonEl =\n",
              "        document.querySelector('#df-67f0bfd2-328e-4a22-b728-6456081e69ae button');\n",
              "      quickchartButtonEl.style.display =\n",
              "        google.colab.kernel.accessAllowed ? 'block' : 'none';\n",
              "    })();\n",
              "  </script>\n",
              "</div>\n",
              "\n",
              "    </div>\n",
              "  </div>\n"
            ]
          },
          "metadata": {},
          "execution_count": 3
        }
      ]
    },
    {
      "cell_type": "code",
      "source": [
        "# Kiểm tra kích thước của dữ liệu\n",
        "df.shape"
      ],
      "metadata": {
        "colab": {
          "base_uri": "https://localhost:8080/"
        },
        "id": "M0qU7t0mIzv8",
        "outputId": "ac0112d7-f5cc-4b6f-ec04-774e1307a66f"
      },
      "execution_count": null,
      "outputs": [
        {
          "output_type": "execute_result",
          "data": {
            "text/plain": [
              "(10841, 13)"
            ]
          },
          "metadata": {},
          "execution_count": 4
        }
      ]
    },
    {
      "cell_type": "code",
      "source": [
        "# miêu tả\n",
        "df.describe()"
      ],
      "metadata": {
        "colab": {
          "base_uri": "https://localhost:8080/",
          "height": 300
        },
        "id": "KKpZtBe7Iz6y",
        "outputId": "8e110926-436f-45e0-c9bc-563897e8848e"
      },
      "execution_count": null,
      "outputs": [
        {
          "output_type": "execute_result",
          "data": {
            "text/plain": [
              "            Rating\n",
              "count  9367.000000\n",
              "mean      4.193338\n",
              "std       0.537431\n",
              "min       1.000000\n",
              "25%       4.000000\n",
              "50%       4.300000\n",
              "75%       4.500000\n",
              "max      19.000000"
            ],
            "text/html": [
              "\n",
              "  <div id=\"df-fd366e7a-e6d3-45bb-9289-229d95168ab3\" class=\"colab-df-container\">\n",
              "    <div>\n",
              "<style scoped>\n",
              "    .dataframe tbody tr th:only-of-type {\n",
              "        vertical-align: middle;\n",
              "    }\n",
              "\n",
              "    .dataframe tbody tr th {\n",
              "        vertical-align: top;\n",
              "    }\n",
              "\n",
              "    .dataframe thead th {\n",
              "        text-align: right;\n",
              "    }\n",
              "</style>\n",
              "<table border=\"1\" class=\"dataframe\">\n",
              "  <thead>\n",
              "    <tr style=\"text-align: right;\">\n",
              "      <th></th>\n",
              "      <th>Rating</th>\n",
              "    </tr>\n",
              "  </thead>\n",
              "  <tbody>\n",
              "    <tr>\n",
              "      <th>count</th>\n",
              "      <td>9367.000000</td>\n",
              "    </tr>\n",
              "    <tr>\n",
              "      <th>mean</th>\n",
              "      <td>4.193338</td>\n",
              "    </tr>\n",
              "    <tr>\n",
              "      <th>std</th>\n",
              "      <td>0.537431</td>\n",
              "    </tr>\n",
              "    <tr>\n",
              "      <th>min</th>\n",
              "      <td>1.000000</td>\n",
              "    </tr>\n",
              "    <tr>\n",
              "      <th>25%</th>\n",
              "      <td>4.000000</td>\n",
              "    </tr>\n",
              "    <tr>\n",
              "      <th>50%</th>\n",
              "      <td>4.300000</td>\n",
              "    </tr>\n",
              "    <tr>\n",
              "      <th>75%</th>\n",
              "      <td>4.500000</td>\n",
              "    </tr>\n",
              "    <tr>\n",
              "      <th>max</th>\n",
              "      <td>19.000000</td>\n",
              "    </tr>\n",
              "  </tbody>\n",
              "</table>\n",
              "</div>\n",
              "    <div class=\"colab-df-buttons\">\n",
              "\n",
              "  <div class=\"colab-df-container\">\n",
              "    <button class=\"colab-df-convert\" onclick=\"convertToInteractive('df-fd366e7a-e6d3-45bb-9289-229d95168ab3')\"\n",
              "            title=\"Convert this dataframe to an interactive table.\"\n",
              "            style=\"display:none;\">\n",
              "\n",
              "  <svg xmlns=\"http://www.w3.org/2000/svg\" height=\"24px\" viewBox=\"0 -960 960 960\">\n",
              "    <path d=\"M120-120v-720h720v720H120Zm60-500h600v-160H180v160Zm220 220h160v-160H400v160Zm0 220h160v-160H400v160ZM180-400h160v-160H180v160Zm440 0h160v-160H620v160ZM180-180h160v-160H180v160Zm440 0h160v-160H620v160Z\"/>\n",
              "  </svg>\n",
              "    </button>\n",
              "\n",
              "  <style>\n",
              "    .colab-df-container {\n",
              "      display:flex;\n",
              "      gap: 12px;\n",
              "    }\n",
              "\n",
              "    .colab-df-convert {\n",
              "      background-color: #E8F0FE;\n",
              "      border: none;\n",
              "      border-radius: 50%;\n",
              "      cursor: pointer;\n",
              "      display: none;\n",
              "      fill: #1967D2;\n",
              "      height: 32px;\n",
              "      padding: 0 0 0 0;\n",
              "      width: 32px;\n",
              "    }\n",
              "\n",
              "    .colab-df-convert:hover {\n",
              "      background-color: #E2EBFA;\n",
              "      box-shadow: 0px 1px 2px rgba(60, 64, 67, 0.3), 0px 1px 3px 1px rgba(60, 64, 67, 0.15);\n",
              "      fill: #174EA6;\n",
              "    }\n",
              "\n",
              "    .colab-df-buttons div {\n",
              "      margin-bottom: 4px;\n",
              "    }\n",
              "\n",
              "    [theme=dark] .colab-df-convert {\n",
              "      background-color: #3B4455;\n",
              "      fill: #D2E3FC;\n",
              "    }\n",
              "\n",
              "    [theme=dark] .colab-df-convert:hover {\n",
              "      background-color: #434B5C;\n",
              "      box-shadow: 0px 1px 3px 1px rgba(0, 0, 0, 0.15);\n",
              "      filter: drop-shadow(0px 1px 2px rgba(0, 0, 0, 0.3));\n",
              "      fill: #FFFFFF;\n",
              "    }\n",
              "  </style>\n",
              "\n",
              "    <script>\n",
              "      const buttonEl =\n",
              "        document.querySelector('#df-fd366e7a-e6d3-45bb-9289-229d95168ab3 button.colab-df-convert');\n",
              "      buttonEl.style.display =\n",
              "        google.colab.kernel.accessAllowed ? 'block' : 'none';\n",
              "\n",
              "      async function convertToInteractive(key) {\n",
              "        const element = document.querySelector('#df-fd366e7a-e6d3-45bb-9289-229d95168ab3');\n",
              "        const dataTable =\n",
              "          await google.colab.kernel.invokeFunction('convertToInteractive',\n",
              "                                                    [key], {});\n",
              "        if (!dataTable) return;\n",
              "\n",
              "        const docLinkHtml = 'Like what you see? Visit the ' +\n",
              "          '<a target=\"_blank\" href=https://colab.research.google.com/notebooks/data_table.ipynb>data table notebook</a>'\n",
              "          + ' to learn more about interactive tables.';\n",
              "        element.innerHTML = '';\n",
              "        dataTable['output_type'] = 'display_data';\n",
              "        await google.colab.output.renderOutput(dataTable, element);\n",
              "        const docLink = document.createElement('div');\n",
              "        docLink.innerHTML = docLinkHtml;\n",
              "        element.appendChild(docLink);\n",
              "      }\n",
              "    </script>\n",
              "  </div>\n",
              "\n",
              "\n",
              "<div id=\"df-4c5cff89-5f08-48ec-b89d-a91dee05f921\">\n",
              "  <button class=\"colab-df-quickchart\" onclick=\"quickchart('df-4c5cff89-5f08-48ec-b89d-a91dee05f921')\"\n",
              "            title=\"Suggest charts\"\n",
              "            style=\"display:none;\">\n",
              "\n",
              "<svg xmlns=\"http://www.w3.org/2000/svg\" height=\"24px\"viewBox=\"0 0 24 24\"\n",
              "     width=\"24px\">\n",
              "    <g>\n",
              "        <path d=\"M19 3H5c-1.1 0-2 .9-2 2v14c0 1.1.9 2 2 2h14c1.1 0 2-.9 2-2V5c0-1.1-.9-2-2-2zM9 17H7v-7h2v7zm4 0h-2V7h2v10zm4 0h-2v-4h2v4z\"/>\n",
              "    </g>\n",
              "</svg>\n",
              "  </button>\n",
              "\n",
              "<style>\n",
              "  .colab-df-quickchart {\n",
              "      --bg-color: #E8F0FE;\n",
              "      --fill-color: #1967D2;\n",
              "      --hover-bg-color: #E2EBFA;\n",
              "      --hover-fill-color: #174EA6;\n",
              "      --disabled-fill-color: #AAA;\n",
              "      --disabled-bg-color: #DDD;\n",
              "  }\n",
              "\n",
              "  [theme=dark] .colab-df-quickchart {\n",
              "      --bg-color: #3B4455;\n",
              "      --fill-color: #D2E3FC;\n",
              "      --hover-bg-color: #434B5C;\n",
              "      --hover-fill-color: #FFFFFF;\n",
              "      --disabled-bg-color: #3B4455;\n",
              "      --disabled-fill-color: #666;\n",
              "  }\n",
              "\n",
              "  .colab-df-quickchart {\n",
              "    background-color: var(--bg-color);\n",
              "    border: none;\n",
              "    border-radius: 50%;\n",
              "    cursor: pointer;\n",
              "    display: none;\n",
              "    fill: var(--fill-color);\n",
              "    height: 32px;\n",
              "    padding: 0;\n",
              "    width: 32px;\n",
              "  }\n",
              "\n",
              "  .colab-df-quickchart:hover {\n",
              "    background-color: var(--hover-bg-color);\n",
              "    box-shadow: 0 1px 2px rgba(60, 64, 67, 0.3), 0 1px 3px 1px rgba(60, 64, 67, 0.15);\n",
              "    fill: var(--button-hover-fill-color);\n",
              "  }\n",
              "\n",
              "  .colab-df-quickchart-complete:disabled,\n",
              "  .colab-df-quickchart-complete:disabled:hover {\n",
              "    background-color: var(--disabled-bg-color);\n",
              "    fill: var(--disabled-fill-color);\n",
              "    box-shadow: none;\n",
              "  }\n",
              "\n",
              "  .colab-df-spinner {\n",
              "    border: 2px solid var(--fill-color);\n",
              "    border-color: transparent;\n",
              "    border-bottom-color: var(--fill-color);\n",
              "    animation:\n",
              "      spin 1s steps(1) infinite;\n",
              "  }\n",
              "\n",
              "  @keyframes spin {\n",
              "    0% {\n",
              "      border-color: transparent;\n",
              "      border-bottom-color: var(--fill-color);\n",
              "      border-left-color: var(--fill-color);\n",
              "    }\n",
              "    20% {\n",
              "      border-color: transparent;\n",
              "      border-left-color: var(--fill-color);\n",
              "      border-top-color: var(--fill-color);\n",
              "    }\n",
              "    30% {\n",
              "      border-color: transparent;\n",
              "      border-left-color: var(--fill-color);\n",
              "      border-top-color: var(--fill-color);\n",
              "      border-right-color: var(--fill-color);\n",
              "    }\n",
              "    40% {\n",
              "      border-color: transparent;\n",
              "      border-right-color: var(--fill-color);\n",
              "      border-top-color: var(--fill-color);\n",
              "    }\n",
              "    60% {\n",
              "      border-color: transparent;\n",
              "      border-right-color: var(--fill-color);\n",
              "    }\n",
              "    80% {\n",
              "      border-color: transparent;\n",
              "      border-right-color: var(--fill-color);\n",
              "      border-bottom-color: var(--fill-color);\n",
              "    }\n",
              "    90% {\n",
              "      border-color: transparent;\n",
              "      border-bottom-color: var(--fill-color);\n",
              "    }\n",
              "  }\n",
              "</style>\n",
              "\n",
              "  <script>\n",
              "    async function quickchart(key) {\n",
              "      const quickchartButtonEl =\n",
              "        document.querySelector('#' + key + ' button');\n",
              "      quickchartButtonEl.disabled = true;  // To prevent multiple clicks.\n",
              "      quickchartButtonEl.classList.add('colab-df-spinner');\n",
              "      try {\n",
              "        const charts = await google.colab.kernel.invokeFunction(\n",
              "            'suggestCharts', [key], {});\n",
              "      } catch (error) {\n",
              "        console.error('Error during call to suggestCharts:', error);\n",
              "      }\n",
              "      quickchartButtonEl.classList.remove('colab-df-spinner');\n",
              "      quickchartButtonEl.classList.add('colab-df-quickchart-complete');\n",
              "    }\n",
              "    (() => {\n",
              "      let quickchartButtonEl =\n",
              "        document.querySelector('#df-4c5cff89-5f08-48ec-b89d-a91dee05f921 button');\n",
              "      quickchartButtonEl.style.display =\n",
              "        google.colab.kernel.accessAllowed ? 'block' : 'none';\n",
              "    })();\n",
              "  </script>\n",
              "</div>\n",
              "\n",
              "    </div>\n",
              "  </div>\n"
            ]
          },
          "metadata": {},
          "execution_count": 5
        }
      ]
    },
    {
      "cell_type": "code",
      "source": [
        "# Kiểm tra kiểu dữ liệu\n",
        "df.dtypes"
      ],
      "metadata": {
        "colab": {
          "base_uri": "https://localhost:8080/"
        },
        "id": "iE2JPUBmIz-b",
        "outputId": "97732321-3a98-4f0e-931b-f59eccdbde1e"
      },
      "execution_count": null,
      "outputs": [
        {
          "output_type": "execute_result",
          "data": {
            "text/plain": [
              "App                object\n",
              "Category           object\n",
              "Rating            float64\n",
              "Reviews            object\n",
              "Size               object\n",
              "Installs           object\n",
              "Type               object\n",
              "Price              object\n",
              "Content Rating     object\n",
              "Genres             object\n",
              "Last Updated       object\n",
              "Current Ver        object\n",
              "Android Ver        object\n",
              "dtype: object"
            ]
          },
          "metadata": {},
          "execution_count": 6
        }
      ]
    },
    {
      "cell_type": "markdown",
      "source": [
        " **Sắp xếp và tiền xử lý dữ liệu**\n",
        " Các bước thực hiện trong quá trình tiền xử lý như sau:\n",
        "\n",
        "Tìm giá trị Null hoặc Thiếu\n",
        "\n",
        "Thay đổi loại dữ liệu của các tính năng, nếu được yêu cầu\n",
        "\n",
        "Mã hóa dữ liệu của các tính năng phân loại\n",
        "\n",
        "Xử lý các giá trị Null hoặc Thiếu\n"
      ],
      "metadata": {
        "id": "jRViz7mRJX0L"
      }
    },
    {
      "cell_type": "code",
      "source": [
        "# Bỏ đi các cột không sử dụng\n",
        "df = df.drop(columns=['App', 'Last Updated', 'Current Ver', 'Android Ver'])"
      ],
      "metadata": {
        "id": "o-7dPcBNI0A5"
      },
      "execution_count": null,
      "outputs": []
    },
    {
      "cell_type": "code",
      "source": [
        "# Kiểm tra các giá trị còn thiếu trong từng cột dữ liệu huấn luyện\n",
        "df.isnull().sum()"
      ],
      "metadata": {
        "colab": {
          "base_uri": "https://localhost:8080/"
        },
        "id": "vaLsWeYuI0DY",
        "outputId": "8beee45c-e963-490f-e773-7d84a7639978"
      },
      "execution_count": null,
      "outputs": [
        {
          "output_type": "execute_result",
          "data": {
            "text/plain": [
              "Category             0\n",
              "Rating            1474\n",
              "Reviews              0\n",
              "Size                 0\n",
              "Installs             0\n",
              "Type                 1\n",
              "Price                0\n",
              "Content Rating       1\n",
              "Genres               0\n",
              "dtype: int64"
            ]
          },
          "metadata": {},
          "execution_count": 8
        }
      ]
    },
    {
      "cell_type": "code",
      "source": [
        "# Kiểm tra bản ghi nào có xếp hạng> 5 không\n",
        "df[df['Rating'] > 5]"
      ],
      "metadata": {
        "colab": {
          "base_uri": "https://localhost:8080/",
          "height": 81
        },
        "id": "-JzVkaYCI0GA",
        "outputId": "c6f475ac-b519-4d3c-f344-bdd23eda0871"
      },
      "execution_count": null,
      "outputs": [
        {
          "output_type": "execute_result",
          "data": {
            "text/plain": [
              "      Category  Rating Reviews    Size Installs Type     Price Content Rating  \\\n",
              "10472      1.9    19.0    3.0M  1,000+     Free    0  Everyone            NaN   \n",
              "\n",
              "          Genres  \n",
              "10472  11-Feb-18  "
            ],
            "text/html": [
              "\n",
              "  <div id=\"df-797999cd-11d4-4009-9552-2da82307a937\" class=\"colab-df-container\">\n",
              "    <div>\n",
              "<style scoped>\n",
              "    .dataframe tbody tr th:only-of-type {\n",
              "        vertical-align: middle;\n",
              "    }\n",
              "\n",
              "    .dataframe tbody tr th {\n",
              "        vertical-align: top;\n",
              "    }\n",
              "\n",
              "    .dataframe thead th {\n",
              "        text-align: right;\n",
              "    }\n",
              "</style>\n",
              "<table border=\"1\" class=\"dataframe\">\n",
              "  <thead>\n",
              "    <tr style=\"text-align: right;\">\n",
              "      <th></th>\n",
              "      <th>Category</th>\n",
              "      <th>Rating</th>\n",
              "      <th>Reviews</th>\n",
              "      <th>Size</th>\n",
              "      <th>Installs</th>\n",
              "      <th>Type</th>\n",
              "      <th>Price</th>\n",
              "      <th>Content Rating</th>\n",
              "      <th>Genres</th>\n",
              "    </tr>\n",
              "  </thead>\n",
              "  <tbody>\n",
              "    <tr>\n",
              "      <th>10472</th>\n",
              "      <td>1.9</td>\n",
              "      <td>19.0</td>\n",
              "      <td>3.0M</td>\n",
              "      <td>1,000+</td>\n",
              "      <td>Free</td>\n",
              "      <td>0</td>\n",
              "      <td>Everyone</td>\n",
              "      <td>NaN</td>\n",
              "      <td>11-Feb-18</td>\n",
              "    </tr>\n",
              "  </tbody>\n",
              "</table>\n",
              "</div>\n",
              "    <div class=\"colab-df-buttons\">\n",
              "\n",
              "  <div class=\"colab-df-container\">\n",
              "    <button class=\"colab-df-convert\" onclick=\"convertToInteractive('df-797999cd-11d4-4009-9552-2da82307a937')\"\n",
              "            title=\"Convert this dataframe to an interactive table.\"\n",
              "            style=\"display:none;\">\n",
              "\n",
              "  <svg xmlns=\"http://www.w3.org/2000/svg\" height=\"24px\" viewBox=\"0 -960 960 960\">\n",
              "    <path d=\"M120-120v-720h720v720H120Zm60-500h600v-160H180v160Zm220 220h160v-160H400v160Zm0 220h160v-160H400v160ZM180-400h160v-160H180v160Zm440 0h160v-160H620v160ZM180-180h160v-160H180v160Zm440 0h160v-160H620v160Z\"/>\n",
              "  </svg>\n",
              "    </button>\n",
              "\n",
              "  <style>\n",
              "    .colab-df-container {\n",
              "      display:flex;\n",
              "      gap: 12px;\n",
              "    }\n",
              "\n",
              "    .colab-df-convert {\n",
              "      background-color: #E8F0FE;\n",
              "      border: none;\n",
              "      border-radius: 50%;\n",
              "      cursor: pointer;\n",
              "      display: none;\n",
              "      fill: #1967D2;\n",
              "      height: 32px;\n",
              "      padding: 0 0 0 0;\n",
              "      width: 32px;\n",
              "    }\n",
              "\n",
              "    .colab-df-convert:hover {\n",
              "      background-color: #E2EBFA;\n",
              "      box-shadow: 0px 1px 2px rgba(60, 64, 67, 0.3), 0px 1px 3px 1px rgba(60, 64, 67, 0.15);\n",
              "      fill: #174EA6;\n",
              "    }\n",
              "\n",
              "    .colab-df-buttons div {\n",
              "      margin-bottom: 4px;\n",
              "    }\n",
              "\n",
              "    [theme=dark] .colab-df-convert {\n",
              "      background-color: #3B4455;\n",
              "      fill: #D2E3FC;\n",
              "    }\n",
              "\n",
              "    [theme=dark] .colab-df-convert:hover {\n",
              "      background-color: #434B5C;\n",
              "      box-shadow: 0px 1px 3px 1px rgba(0, 0, 0, 0.15);\n",
              "      filter: drop-shadow(0px 1px 2px rgba(0, 0, 0, 0.3));\n",
              "      fill: #FFFFFF;\n",
              "    }\n",
              "  </style>\n",
              "\n",
              "    <script>\n",
              "      const buttonEl =\n",
              "        document.querySelector('#df-797999cd-11d4-4009-9552-2da82307a937 button.colab-df-convert');\n",
              "      buttonEl.style.display =\n",
              "        google.colab.kernel.accessAllowed ? 'block' : 'none';\n",
              "\n",
              "      async function convertToInteractive(key) {\n",
              "        const element = document.querySelector('#df-797999cd-11d4-4009-9552-2da82307a937');\n",
              "        const dataTable =\n",
              "          await google.colab.kernel.invokeFunction('convertToInteractive',\n",
              "                                                    [key], {});\n",
              "        if (!dataTable) return;\n",
              "\n",
              "        const docLinkHtml = 'Like what you see? Visit the ' +\n",
              "          '<a target=\"_blank\" href=https://colab.research.google.com/notebooks/data_table.ipynb>data table notebook</a>'\n",
              "          + ' to learn more about interactive tables.';\n",
              "        element.innerHTML = '';\n",
              "        dataTable['output_type'] = 'display_data';\n",
              "        await google.colab.output.renderOutput(dataTable, element);\n",
              "        const docLink = document.createElement('div');\n",
              "        docLink.innerHTML = docLinkHtml;\n",
              "        element.appendChild(docLink);\n",
              "      }\n",
              "    </script>\n",
              "  </div>\n",
              "\n",
              "\n",
              "    </div>\n",
              "  </div>\n"
            ]
          },
          "metadata": {},
          "execution_count": 9
        }
      ]
    },
    {
      "cell_type": "code",
      "source": [
        "rec = df[df['Category'] == '1.9'].index\n",
        "df = df.drop(rec)"
      ],
      "metadata": {
        "id": "TvtcONbOI0IZ"
      },
      "execution_count": null,
      "outputs": []
    },
    {
      "cell_type": "code",
      "source": [
        "#Tạo một bản sao của DataFrame và lưu trữ trong train_data\n",
        "train_data = df.copy()"
      ],
      "metadata": {
        "id": "6Tfm6MH1I0Kk"
      },
      "execution_count": null,
      "outputs": []
    },
    {
      "cell_type": "code",
      "source": [
        "# Xử lý cột \"Giá\"\n",
        "train_data['Price'] = train_data['Price'].apply(lambda x : x.strip('$'))\n",
        "# Xử lý cột \"Cài đặt\"\n",
        "train_data['Installs'] = train_data['Installs'].apply(lambda x : x.strip('+').replace(',', ''))"
      ],
      "metadata": {
        "id": "Ciw919u9I0M5"
      },
      "execution_count": null,
      "outputs": []
    },
    {
      "cell_type": "code",
      "source": [
        "# Chuyển đổi sang kiểu dữ liệu float\n",
        "train_data['Price'] = train_data['Price'].astype(float)\n",
        "train_data['Installs'] = train_data['Installs'].astype(float)\n",
        "train_data['Reviews'] = train_data['Reviews'].astype(float)"
      ],
      "metadata": {
        "id": "rtGviH-cLV7n"
      },
      "execution_count": null,
      "outputs": []
    },
    {
      "cell_type": "code",
      "source": [
        "# Sẽ không chứa bất kỳ bản ghi nào có giá trị NaN trong cột 'Type'.\n",
        "rec = train_data[train_data['Type'].isnull()].index\n",
        "train_data = train_data.drop(rec)"
      ],
      "metadata": {
        "id": "4cSa6WEyLV-M"
      },
      "execution_count": null,
      "outputs": []
    },
    {
      "cell_type": "code",
      "source": [
        "#  lưu trữ tất cả các cột có kiểu dữ liệu 'object'\n",
        "col_list = [c for c in train_data.columns if train_data[c].dtype == 'object']\n",
        "col_list"
      ],
      "metadata": {
        "colab": {
          "base_uri": "https://localhost:8080/"
        },
        "id": "nD_tZsicLWCq",
        "outputId": "5bbfaa95-552b-490b-fc7e-cd4eadcc0730"
      },
      "execution_count": null,
      "outputs": [
        {
          "output_type": "execute_result",
          "data": {
            "text/plain": [
              "['Category', 'Size', 'Type', 'Content Rating', 'Genres']"
            ]
          },
          "metadata": {},
          "execution_count": 15
        }
      ]
    },
    {
      "cell_type": "code",
      "source": [
        "# Mã hóa các tính năng ngoại trừ \"size\"\n",
        "for c in col_list:\n",
        "    if c != 'Size':\n",
        "        train_data[c] = train_data[c].astype('category')\n",
        "        train_data[c] = train_data[c].cat.codes"
      ],
      "metadata": {
        "id": "HXkFoJyKLWFe"
      },
      "execution_count": null,
      "outputs": []
    },
    {
      "cell_type": "code",
      "source": [
        "# Chuyển đổi các biến phân loại thành dạng số\n",
        "print(df['Type'].unique().tolist())\n",
        "print(train_data['Type'].unique().tolist(), '\\n')"
      ],
      "metadata": {
        "colab": {
          "base_uri": "https://localhost:8080/"
        },
        "id": "3_uN2hU1LWIH",
        "outputId": "64391744-0c1b-4381-f1c3-0b3321d43b1a"
      },
      "execution_count": null,
      "outputs": [
        {
          "output_type": "stream",
          "name": "stdout",
          "text": [
            "['Free', 'Paid', nan]\n",
            "[0, 1] \n",
            "\n"
          ]
        }
      ]
    },
    {
      "cell_type": "code",
      "source": [
        "# để xác định rõ ràng rằng giá trị \"Varies with device\" trong cột 'Size' sẽ được coi như giá trị thiếu (null)\n",
        "train_data.loc[train_data['Size'] == 'Varies with device', 'Size'] = np.nan"
      ],
      "metadata": {
        "id": "1cPXkG90LWKh"
      },
      "execution_count": null,
      "outputs": []
    },
    {
      "cell_type": "code",
      "source": [
        "# Loại bỏ hậu tố: Xóa hậu tố 'k' hoặc 'M' từ các giá trị trong cột 'Size'.\n",
        "# Chuyển đổi kiểu dữ liệu: Chuyển đổi các giá trị trong cột 'Size' thành kiểu dữ liệu float.\n",
        "# Trích xuất hậu tố: Trích xuất hậu tố 'k' hoặc 'M' từ các giá trị trong cột 'Size'.\n",
        "# Xử lý giá trị None: Thay thế các giá trị None (nếu có) bằng giá trị 1.0 để giữ lại giá trị mặc định.\n",
        "# Chuyển đổi đơn vị: Thay thế 'k' bằng 10^3 và 'M' bằng 10^6, biến đổi các giá trị thành đơn vị bytes.\n",
        "# Chuyển đổi kiểu số nguyên: Chuyển đổi tất cả các giá trị trong cột 'Size' thành kiểu số nguyên.\n",
        "# Gán lại giá trị: Gán lại cột 'Size' trong DataFrame train_data với giá trị đã được xử lý.\n",
        "train_data.Size = (train_data.Size.replace(r'[kM]+$', '', regex=True).astype(float) * \\\n",
        "             train_data.Size.str.extract(r'[\\d\\.]+([KM]+)', expand=False).fillna(1)\n",
        "            .replace(['k','M'], [10**3, 10**6]).astype(int))"
      ],
      "metadata": {
        "id": "P8C9eqimLWM8"
      },
      "execution_count": null,
      "outputs": []
    },
    {
      "cell_type": "code",
      "source": [
        "\n",
        "train_data.isnull().sum()"
      ],
      "metadata": {
        "colab": {
          "base_uri": "https://localhost:8080/"
        },
        "id": "Dw5TqGujLWQi",
        "outputId": "9458d026-1742-4194-f81f-f061db0f04c4"
      },
      "execution_count": null,
      "outputs": [
        {
          "output_type": "execute_result",
          "data": {
            "text/plain": [
              "Category             0\n",
              "Rating            1473\n",
              "Reviews              0\n",
              "Size              1694\n",
              "Installs             0\n",
              "Type                 0\n",
              "Price                0\n",
              "Content Rating       0\n",
              "Genres               0\n",
              "dtype: int64"
            ]
          },
          "metadata": {},
          "execution_count": 20
        }
      ]
    },
    {
      "cell_type": "markdown",
      "source": [
        "Vì kích thước và xếp hạng có số lượng lớn các giá trị bị thiếu nên sẽ không phải là cách tiếp cận tốt để điền chúng bằng giá trị trung bình hoặc giá trị trung bình nên tôi sử dụng mô hình hồi quy tuyến tính để điền vào các giá trị còn thiếu này."
      ],
      "metadata": {
        "id": "qDq323b4N6Da"
      }
    },
    {
      "cell_type": "code",
      "source": [
        "# Điền các giá trị còn thiếu trong cột 'Size' bằng cách sử dụng mô hình hồi quy tuyến tính\n",
        "X = train_data[train_data['Size'].notnull()]\n",
        "y = train_data.loc[train_data['Size'].notnull(), 'Size']\n",
        "X = X.drop(columns=['Size', 'Rating'])\n",
        "\n",
        "\n",
        "model = linear_model.LinearRegression()\n",
        "model.fit(X, y)\n",
        "\n",
        "\n",
        "X_miss = train_data[train_data['Size'].isnull()]\n",
        "X_miss = X_miss.drop(columns = ['Size', 'Rating'])\n",
        "\n",
        "\n",
        "train_data.loc[train_data['Size'].isnull(), 'Size'] = model.predict(X_miss)"
      ],
      "metadata": {
        "id": "9yQ3fsxbN1ye"
      },
      "execution_count": null,
      "outputs": []
    },
    {
      "cell_type": "code",
      "source": [
        "# điền các giá trị còn thiếu trong cột 'Rating' bằng cách sử dụng mô hình hồi quy tuyến tính\n",
        "X = train_data[train_data['Rating'].notnull()]\n",
        "y = train_data.loc[train_data['Rating'].notnull(), 'Rating']\n",
        "X = X.drop(columns=['Rating'])\n",
        "\n",
        "\n",
        "model = linear_model.LinearRegression()\n",
        "model.fit(X, y)\n",
        "\n",
        "\n",
        "X_miss = train_data[train_data['Rating'].isnull()]\n",
        "X_miss = X_miss.drop(columns = ['Rating'])\n",
        "\n",
        "\n",
        "train_data.loc[train_data['Rating'].isnull(), 'Rating'] = model.predict(X_miss)"
      ],
      "metadata": {
        "id": "Y04TThirLWS7"
      },
      "execution_count": null,
      "outputs": []
    },
    {
      "cell_type": "code",
      "source": [
        "train_data.isnull().sum()"
      ],
      "metadata": {
        "id": "r3lnh6eHI0PL",
        "colab": {
          "base_uri": "https://localhost:8080/"
        },
        "outputId": "2dc2b5fb-13de-4d60-cde6-0f346e62f3d2"
      },
      "execution_count": null,
      "outputs": [
        {
          "output_type": "execute_result",
          "data": {
            "text/plain": [
              "Category          0\n",
              "Rating            0\n",
              "Reviews           0\n",
              "Size              0\n",
              "Installs          0\n",
              "Type              0\n",
              "Price             0\n",
              "Content Rating    0\n",
              "Genres            0\n",
              "dtype: int64"
            ]
          },
          "metadata": {},
          "execution_count": 23
        }
      ]
    },
    {
      "cell_type": "code",
      "source": [
        "train_data.dtypes"
      ],
      "metadata": {
        "id": "8IzSDOaJI0Rc",
        "colab": {
          "base_uri": "https://localhost:8080/"
        },
        "outputId": "30046ad7-25b9-4218-e83e-e2ccd3b56ea9"
      },
      "execution_count": null,
      "outputs": [
        {
          "output_type": "execute_result",
          "data": {
            "text/plain": [
              "Category             int8\n",
              "Rating            float64\n",
              "Reviews           float64\n",
              "Size              float64\n",
              "Installs          float64\n",
              "Type                 int8\n",
              "Price             float64\n",
              "Content Rating       int8\n",
              "Genres               int8\n",
              "dtype: object"
            ]
          },
          "metadata": {},
          "execution_count": 24
        }
      ]
    },
    {
      "cell_type": "code",
      "source": [
        "train_data.head()"
      ],
      "metadata": {
        "id": "Ve0lMwIeI0T9",
        "colab": {
          "base_uri": "https://localhost:8080/",
          "height": 206
        },
        "outputId": "1088512a-2f98-4b18-8098-beca8c92e324"
      },
      "execution_count": null,
      "outputs": [
        {
          "output_type": "execute_result",
          "data": {
            "text/plain": [
              "   Category  Rating   Reviews        Size    Installs  Type  Price  \\\n",
              "0         0     4.1     159.0  19000000.0     10000.0     0    0.0   \n",
              "1         0     3.9     967.0  14000000.0    500000.0     0    0.0   \n",
              "2         0     4.7   87510.0   8700000.0   5000000.0     0    0.0   \n",
              "3         0     4.5  215644.0  25000000.0  50000000.0     0    0.0   \n",
              "4         0     4.3     967.0   2800000.0    100000.0     0    0.0   \n",
              "\n",
              "   Content Rating  Genres  \n",
              "0               1       9  \n",
              "1               1      12  \n",
              "2               1       9  \n",
              "3               4       9  \n",
              "4               1      11  "
            ],
            "text/html": [
              "\n",
              "  <div id=\"df-b58bcf21-a4d9-4dc8-b4bd-f82d4293ecc8\" class=\"colab-df-container\">\n",
              "    <div>\n",
              "<style scoped>\n",
              "    .dataframe tbody tr th:only-of-type {\n",
              "        vertical-align: middle;\n",
              "    }\n",
              "\n",
              "    .dataframe tbody tr th {\n",
              "        vertical-align: top;\n",
              "    }\n",
              "\n",
              "    .dataframe thead th {\n",
              "        text-align: right;\n",
              "    }\n",
              "</style>\n",
              "<table border=\"1\" class=\"dataframe\">\n",
              "  <thead>\n",
              "    <tr style=\"text-align: right;\">\n",
              "      <th></th>\n",
              "      <th>Category</th>\n",
              "      <th>Rating</th>\n",
              "      <th>Reviews</th>\n",
              "      <th>Size</th>\n",
              "      <th>Installs</th>\n",
              "      <th>Type</th>\n",
              "      <th>Price</th>\n",
              "      <th>Content Rating</th>\n",
              "      <th>Genres</th>\n",
              "    </tr>\n",
              "  </thead>\n",
              "  <tbody>\n",
              "    <tr>\n",
              "      <th>0</th>\n",
              "      <td>0</td>\n",
              "      <td>4.1</td>\n",
              "      <td>159.0</td>\n",
              "      <td>19000000.0</td>\n",
              "      <td>10000.0</td>\n",
              "      <td>0</td>\n",
              "      <td>0.0</td>\n",
              "      <td>1</td>\n",
              "      <td>9</td>\n",
              "    </tr>\n",
              "    <tr>\n",
              "      <th>1</th>\n",
              "      <td>0</td>\n",
              "      <td>3.9</td>\n",
              "      <td>967.0</td>\n",
              "      <td>14000000.0</td>\n",
              "      <td>500000.0</td>\n",
              "      <td>0</td>\n",
              "      <td>0.0</td>\n",
              "      <td>1</td>\n",
              "      <td>12</td>\n",
              "    </tr>\n",
              "    <tr>\n",
              "      <th>2</th>\n",
              "      <td>0</td>\n",
              "      <td>4.7</td>\n",
              "      <td>87510.0</td>\n",
              "      <td>8700000.0</td>\n",
              "      <td>5000000.0</td>\n",
              "      <td>0</td>\n",
              "      <td>0.0</td>\n",
              "      <td>1</td>\n",
              "      <td>9</td>\n",
              "    </tr>\n",
              "    <tr>\n",
              "      <th>3</th>\n",
              "      <td>0</td>\n",
              "      <td>4.5</td>\n",
              "      <td>215644.0</td>\n",
              "      <td>25000000.0</td>\n",
              "      <td>50000000.0</td>\n",
              "      <td>0</td>\n",
              "      <td>0.0</td>\n",
              "      <td>4</td>\n",
              "      <td>9</td>\n",
              "    </tr>\n",
              "    <tr>\n",
              "      <th>4</th>\n",
              "      <td>0</td>\n",
              "      <td>4.3</td>\n",
              "      <td>967.0</td>\n",
              "      <td>2800000.0</td>\n",
              "      <td>100000.0</td>\n",
              "      <td>0</td>\n",
              "      <td>0.0</td>\n",
              "      <td>1</td>\n",
              "      <td>11</td>\n",
              "    </tr>\n",
              "  </tbody>\n",
              "</table>\n",
              "</div>\n",
              "    <div class=\"colab-df-buttons\">\n",
              "\n",
              "  <div class=\"colab-df-container\">\n",
              "    <button class=\"colab-df-convert\" onclick=\"convertToInteractive('df-b58bcf21-a4d9-4dc8-b4bd-f82d4293ecc8')\"\n",
              "            title=\"Convert this dataframe to an interactive table.\"\n",
              "            style=\"display:none;\">\n",
              "\n",
              "  <svg xmlns=\"http://www.w3.org/2000/svg\" height=\"24px\" viewBox=\"0 -960 960 960\">\n",
              "    <path d=\"M120-120v-720h720v720H120Zm60-500h600v-160H180v160Zm220 220h160v-160H400v160Zm0 220h160v-160H400v160ZM180-400h160v-160H180v160Zm440 0h160v-160H620v160ZM180-180h160v-160H180v160Zm440 0h160v-160H620v160Z\"/>\n",
              "  </svg>\n",
              "    </button>\n",
              "\n",
              "  <style>\n",
              "    .colab-df-container {\n",
              "      display:flex;\n",
              "      gap: 12px;\n",
              "    }\n",
              "\n",
              "    .colab-df-convert {\n",
              "      background-color: #E8F0FE;\n",
              "      border: none;\n",
              "      border-radius: 50%;\n",
              "      cursor: pointer;\n",
              "      display: none;\n",
              "      fill: #1967D2;\n",
              "      height: 32px;\n",
              "      padding: 0 0 0 0;\n",
              "      width: 32px;\n",
              "    }\n",
              "\n",
              "    .colab-df-convert:hover {\n",
              "      background-color: #E2EBFA;\n",
              "      box-shadow: 0px 1px 2px rgba(60, 64, 67, 0.3), 0px 1px 3px 1px rgba(60, 64, 67, 0.15);\n",
              "      fill: #174EA6;\n",
              "    }\n",
              "\n",
              "    .colab-df-buttons div {\n",
              "      margin-bottom: 4px;\n",
              "    }\n",
              "\n",
              "    [theme=dark] .colab-df-convert {\n",
              "      background-color: #3B4455;\n",
              "      fill: #D2E3FC;\n",
              "    }\n",
              "\n",
              "    [theme=dark] .colab-df-convert:hover {\n",
              "      background-color: #434B5C;\n",
              "      box-shadow: 0px 1px 3px 1px rgba(0, 0, 0, 0.15);\n",
              "      filter: drop-shadow(0px 1px 2px rgba(0, 0, 0, 0.3));\n",
              "      fill: #FFFFFF;\n",
              "    }\n",
              "  </style>\n",
              "\n",
              "    <script>\n",
              "      const buttonEl =\n",
              "        document.querySelector('#df-b58bcf21-a4d9-4dc8-b4bd-f82d4293ecc8 button.colab-df-convert');\n",
              "      buttonEl.style.display =\n",
              "        google.colab.kernel.accessAllowed ? 'block' : 'none';\n",
              "\n",
              "      async function convertToInteractive(key) {\n",
              "        const element = document.querySelector('#df-b58bcf21-a4d9-4dc8-b4bd-f82d4293ecc8');\n",
              "        const dataTable =\n",
              "          await google.colab.kernel.invokeFunction('convertToInteractive',\n",
              "                                                    [key], {});\n",
              "        if (!dataTable) return;\n",
              "\n",
              "        const docLinkHtml = 'Like what you see? Visit the ' +\n",
              "          '<a target=\"_blank\" href=https://colab.research.google.com/notebooks/data_table.ipynb>data table notebook</a>'\n",
              "          + ' to learn more about interactive tables.';\n",
              "        element.innerHTML = '';\n",
              "        dataTable['output_type'] = 'display_data';\n",
              "        await google.colab.output.renderOutput(dataTable, element);\n",
              "        const docLink = document.createElement('div');\n",
              "        docLink.innerHTML = docLinkHtml;\n",
              "        element.appendChild(docLink);\n",
              "      }\n",
              "    </script>\n",
              "  </div>\n",
              "\n",
              "\n",
              "<div id=\"df-bb5bc9e7-ecc4-4649-b9ad-695003011d92\">\n",
              "  <button class=\"colab-df-quickchart\" onclick=\"quickchart('df-bb5bc9e7-ecc4-4649-b9ad-695003011d92')\"\n",
              "            title=\"Suggest charts\"\n",
              "            style=\"display:none;\">\n",
              "\n",
              "<svg xmlns=\"http://www.w3.org/2000/svg\" height=\"24px\"viewBox=\"0 0 24 24\"\n",
              "     width=\"24px\">\n",
              "    <g>\n",
              "        <path d=\"M19 3H5c-1.1 0-2 .9-2 2v14c0 1.1.9 2 2 2h14c1.1 0 2-.9 2-2V5c0-1.1-.9-2-2-2zM9 17H7v-7h2v7zm4 0h-2V7h2v10zm4 0h-2v-4h2v4z\"/>\n",
              "    </g>\n",
              "</svg>\n",
              "  </button>\n",
              "\n",
              "<style>\n",
              "  .colab-df-quickchart {\n",
              "      --bg-color: #E8F0FE;\n",
              "      --fill-color: #1967D2;\n",
              "      --hover-bg-color: #E2EBFA;\n",
              "      --hover-fill-color: #174EA6;\n",
              "      --disabled-fill-color: #AAA;\n",
              "      --disabled-bg-color: #DDD;\n",
              "  }\n",
              "\n",
              "  [theme=dark] .colab-df-quickchart {\n",
              "      --bg-color: #3B4455;\n",
              "      --fill-color: #D2E3FC;\n",
              "      --hover-bg-color: #434B5C;\n",
              "      --hover-fill-color: #FFFFFF;\n",
              "      --disabled-bg-color: #3B4455;\n",
              "      --disabled-fill-color: #666;\n",
              "  }\n",
              "\n",
              "  .colab-df-quickchart {\n",
              "    background-color: var(--bg-color);\n",
              "    border: none;\n",
              "    border-radius: 50%;\n",
              "    cursor: pointer;\n",
              "    display: none;\n",
              "    fill: var(--fill-color);\n",
              "    height: 32px;\n",
              "    padding: 0;\n",
              "    width: 32px;\n",
              "  }\n",
              "\n",
              "  .colab-df-quickchart:hover {\n",
              "    background-color: var(--hover-bg-color);\n",
              "    box-shadow: 0 1px 2px rgba(60, 64, 67, 0.3), 0 1px 3px 1px rgba(60, 64, 67, 0.15);\n",
              "    fill: var(--button-hover-fill-color);\n",
              "  }\n",
              "\n",
              "  .colab-df-quickchart-complete:disabled,\n",
              "  .colab-df-quickchart-complete:disabled:hover {\n",
              "    background-color: var(--disabled-bg-color);\n",
              "    fill: var(--disabled-fill-color);\n",
              "    box-shadow: none;\n",
              "  }\n",
              "\n",
              "  .colab-df-spinner {\n",
              "    border: 2px solid var(--fill-color);\n",
              "    border-color: transparent;\n",
              "    border-bottom-color: var(--fill-color);\n",
              "    animation:\n",
              "      spin 1s steps(1) infinite;\n",
              "  }\n",
              "\n",
              "  @keyframes spin {\n",
              "    0% {\n",
              "      border-color: transparent;\n",
              "      border-bottom-color: var(--fill-color);\n",
              "      border-left-color: var(--fill-color);\n",
              "    }\n",
              "    20% {\n",
              "      border-color: transparent;\n",
              "      border-left-color: var(--fill-color);\n",
              "      border-top-color: var(--fill-color);\n",
              "    }\n",
              "    30% {\n",
              "      border-color: transparent;\n",
              "      border-left-color: var(--fill-color);\n",
              "      border-top-color: var(--fill-color);\n",
              "      border-right-color: var(--fill-color);\n",
              "    }\n",
              "    40% {\n",
              "      border-color: transparent;\n",
              "      border-right-color: var(--fill-color);\n",
              "      border-top-color: var(--fill-color);\n",
              "    }\n",
              "    60% {\n",
              "      border-color: transparent;\n",
              "      border-right-color: var(--fill-color);\n",
              "    }\n",
              "    80% {\n",
              "      border-color: transparent;\n",
              "      border-right-color: var(--fill-color);\n",
              "      border-bottom-color: var(--fill-color);\n",
              "    }\n",
              "    90% {\n",
              "      border-color: transparent;\n",
              "      border-bottom-color: var(--fill-color);\n",
              "    }\n",
              "  }\n",
              "</style>\n",
              "\n",
              "  <script>\n",
              "    async function quickchart(key) {\n",
              "      const quickchartButtonEl =\n",
              "        document.querySelector('#' + key + ' button');\n",
              "      quickchartButtonEl.disabled = true;  // To prevent multiple clicks.\n",
              "      quickchartButtonEl.classList.add('colab-df-spinner');\n",
              "      try {\n",
              "        const charts = await google.colab.kernel.invokeFunction(\n",
              "            'suggestCharts', [key], {});\n",
              "      } catch (error) {\n",
              "        console.error('Error during call to suggestCharts:', error);\n",
              "      }\n",
              "      quickchartButtonEl.classList.remove('colab-df-spinner');\n",
              "      quickchartButtonEl.classList.add('colab-df-quickchart-complete');\n",
              "    }\n",
              "    (() => {\n",
              "      let quickchartButtonEl =\n",
              "        document.querySelector('#df-bb5bc9e7-ecc4-4649-b9ad-695003011d92 button');\n",
              "      quickchartButtonEl.style.display =\n",
              "        google.colab.kernel.accessAllowed ? 'block' : 'none';\n",
              "    })();\n",
              "  </script>\n",
              "</div>\n",
              "\n",
              "    </div>\n",
              "  </div>\n"
            ]
          },
          "metadata": {},
          "execution_count": 25
        }
      ]
    },
    {
      "cell_type": "markdown",
      "source": [
        "Trực quan hoá dữ liệu"
      ],
      "metadata": {
        "id": "tMYWqzdYPIjV"
      }
    },
    {
      "cell_type": "code",
      "source": [
        "corr = train_data.corr()\n",
        "plt.figure(figsize=(9, 8))\n",
        "\n",
        "sns.heatmap(corr[(corr >= 0) | (corr <= 0)],\n",
        "            cmap='viridis', vmax=1.0, vmin=-1.0, linewidths=0.1,\n",
        "            annot=True, annot_kws={\"size\": 8}, square=True)"
      ],
      "metadata": {
        "colab": {
          "base_uri": "https://localhost:8080/",
          "height": 760
        },
        "id": "Rj-xDxudPIBF",
        "outputId": "0f3f475f-0f29-4863-e990-03937109b53d"
      },
      "execution_count": null,
      "outputs": [
        {
          "output_type": "execute_result",
          "data": {
            "text/plain": [
              "<Axes: >"
            ]
          },
          "metadata": {},
          "execution_count": 26
        },
        {
          "output_type": "display_data",
          "data": {
            "text/plain": [
              "<Figure size 900x800 with 2 Axes>"
            ],
            "image/png": "[encoded data removed]"
          },
          "metadata": {}
        }
      ]
    },
    {
      "cell_type": "code",
      "source": [
        "from pylab import rcParams\n",
        "import warnings\n",
        "warnings.filterwarnings('ignore')\n",
        "\n",
        "# phân bổ xếp hạng\n",
        "rcParams['figure.figsize'] = 11,8\n",
        "g = sns.kdeplot(df.Rating, color=\"Red\", shade = True)\n",
        "g.set_xlabel(\"Rating\")\n",
        "g.set_ylabel(\"Frequency\")\n",
        "plt.title('Phân phối xếp hạng',size = 20)"
      ],
      "metadata": {
        "colab": {
          "base_uri": "https://localhost:8080/",
          "height": 746
        },
        "id": "CpQxkxW8O2r1",
        "outputId": "ff90de1a-93f9-427e-e370-2a888e35b060"
      },
      "execution_count": null,
      "outputs": [
        {
          "output_type": "execute_result",
          "data": {
            "text/plain": [
              "Text(0.5, 1.0, 'Phân phối xếp hạng')"
            ]
          },
          "metadata": {},
          "execution_count": 27
        },
        {
          "output_type": "display_data",
          "data": {
            "text/plain": [
              "<Figure size 1100x800 with 1 Axes>"
            ],
            "image/png": "[encoded data removed]"
          },
          "metadata": {}
        }
      ]
    },
    {
      "cell_type": "markdown",
      "source": [
        "trung bình ứng dụng trong cửa hàng là khoảng 4,3."
      ],
      "metadata": {
        "id": "4R5aqHkGSnT3"
      }
    },
    {
      "cell_type": "code",
      "source": [
        "# Thiết lập kích thước của hình vẽ\n",
        "plt.figure(figsize=(10, 5))\n",
        "\n",
        "# Tạo biểu đồ countplot với seaborn\n",
        "g = sns.countplot(x=\"Category\", data=df, palette=\"Set1\")\n",
        "\n",
        "# Điều chỉnh góc quay và căn lề của nhãn trục x để dễ đọc hơn\n",
        "g.set_xticklabels(g.get_xticklabels(), rotation=90, ha=\"right\")\n",
        "# Đặt tiêu đề cho biểu đồ\n",
        "plt.title('Số lượng ứng dụng trong mỗi danh mục')"
      ],
      "metadata": {
        "colab": {
          "base_uri": "https://localhost:8080/",
          "height": 668
        },
        "id": "KnMh34b0O2o1",
        "outputId": "aeb3f0e1-17b8-4810-cadc-04784054dd63"
      },
      "execution_count": null,
      "outputs": [
        {
          "output_type": "execute_result",
          "data": {
            "text/plain": [
              "Text(0.5, 1.0, 'Số lượng ứng dụng trong mỗi danh mục')"
            ]
          },
          "metadata": {},
          "execution_count": 28
        },
        {
          "output_type": "display_data",
          "data": {
            "text/plain": [
              "<Figure size 1000x500 with 1 Axes>"
            ],
            "image/png": "[encoded data removed]"
          },
          "metadata": {}
        }
      ]
    },
    {
      "cell_type": "markdown",
      "source": [
        "Danh mục Game và Gia đình  xuất hiện nhiều nhất trong cửa hàng"
      ],
      "metadata": {
        "id": "gf4-miXHTCIP"
      }
    },
    {
      "cell_type": "code",
      "source": [
        "# Lấy nhãn (labels) và số lượng (sizes) của cột 'Type' từ DataFrame\n",
        "labels = df['Type'].value_counts(sort=True).index\n",
        "sizes = df['Type'].value_counts(sort=True)\n",
        "\n",
        "# Màu sắc cho các phần của biểu đồ\n",
        "colors = [\"lightblue\", \"orange\"]\n",
        "\n",
        "# Xác định phần bị tách ra (explode), trong trường hợp này tách phần đầu tiên (miễn phí)\n",
        "explode = (0.1, 0)\n",
        "\n",
        "# Thiết lập kích thước của hình vẽ\n",
        "rcParams['figure.figsize'] = 7, 7\n",
        "\n",
        "# Vẽ biểu đồ pie chart\n",
        "plt.pie(sizes, explode=explode, labels=labels, colors=colors,\n",
        "        autopct='%1.1f%%', shadow=True, startangle=270)\n",
        "\n",
        "# Đặt tiêu đề cho biểu đồ\n",
        "plt.title('Phần trăm ứng dụng miễn phí và trả phí trong cửa hàng', size=20)\n",
        "\n",
        "# Hiển thị biểu đồ\n",
        "plt.show()"
      ],
      "metadata": {
        "colab": {
          "base_uri": "https://localhost:8080/",
          "height": 610
        },
        "id": "uGZtruz4O2md",
        "outputId": "ac8d6ca3-5b24-4179-bf75-fbefcbb9436c"
      },
      "execution_count": null,
      "outputs": [
        {
          "output_type": "display_data",
          "data": {
            "text/plain": [
              "<Figure size 700x700 with 1 Axes>"
            ],
            "image/png": "[encoded data removed]"
          },
          "metadata": {}
        }
      ]
    },
    {
      "cell_type": "code",
      "source": [
        "# Chuẩn hóa dữ liệu\n",
        "# Chọn Cột để Không Chuẩn Hóa:\n",
        "cols = ['Category', 'Type', 'Content Rating', 'Genres', 'Rating']\n",
        "\n",
        "# Chọn Các Cột Cần Chuẩn Hóa\n",
        "columns = [c for c in train_data.columns if c not in cols]\n",
        "scaler = StandardScaler()\n",
        "scaler.fit(train_data[columns])\n",
        "train_data[columns] = scaler.transform(train_data[columns])\n",
        "\n",
        "#Kiểm tra dữ liệu sau khi chuẩn hóan\n",
        "train_data.head()"
      ],
      "metadata": {
        "colab": {
          "base_uri": "https://localhost:8080/",
          "height": 206
        },
        "id": "SlTWLvNhO2kZ",
        "outputId": "82376fc5-4d4b-477c-bfab-023b611796f3"
      },
      "execution_count": null,
      "outputs": [
        {
          "output_type": "execute_result",
          "data": {
            "text/plain": [
              "   Category  Rating   Reviews      Size  Installs  Type     Price  \\\n",
              "0         0     4.1 -0.151664 -0.140860 -0.181770     0 -0.064419   \n",
              "1         0     3.9 -0.151388 -0.366005 -0.176007     0 -0.064419   \n",
              "2         0     4.7 -0.121828 -0.604659 -0.123084     0 -0.064419   \n",
              "3         0     4.5 -0.078063  0.129314  0.406145     0 -0.064419   \n",
              "4         0     4.3 -0.151388 -0.870330 -0.180712     0 -0.064419   \n",
              "\n",
              "   Content Rating  Genres  \n",
              "0               1       9  \n",
              "1               1      12  \n",
              "2               1       9  \n",
              "3               4       9  \n",
              "4               1      11  "
            ],
            "text/html": [
              "\n",
              "  <div id=\"df-4195846e-953a-4126-96f4-8ab126e503f4\" class=\"colab-df-container\">\n",
              "    <div>\n",
              "<style scoped>\n",
              "    .dataframe tbody tr th:only-of-type {\n",
              "        vertical-align: middle;\n",
              "    }\n",
              "\n",
              "    .dataframe tbody tr th {\n",
              "        vertical-align: top;\n",
              "    }\n",
              "\n",
              "    .dataframe thead th {\n",
              "        text-align: right;\n",
              "    }\n",
              "</style>\n",
              "<table border=\"1\" class=\"dataframe\">\n",
              "  <thead>\n",
              "    <tr style=\"text-align: right;\">\n",
              "      <th></th>\n",
              "      <th>Category</th>\n",
              "      <th>Rating</th>\n",
              "      <th>Reviews</th>\n",
              "      <th>Size</th>\n",
              "      <th>Installs</th>\n",
              "      <th>Type</th>\n",
              "      <th>Price</th>\n",
              "      <th>Content Rating</th>\n",
              "      <th>Genres</th>\n",
              "    </tr>\n",
              "  </thead>\n",
              "  <tbody>\n",
              "    <tr>\n",
              "      <th>0</th>\n",
              "      <td>0</td>\n",
              "      <td>4.1</td>\n",
              "      <td>-0.151664</td>\n",
              "      <td>-0.140860</td>\n",
              "      <td>-0.181770</td>\n",
              "      <td>0</td>\n",
              "      <td>-0.064419</td>\n",
              "      <td>1</td>\n",
              "      <td>9</td>\n",
              "    </tr>\n",
              "    <tr>\n",
              "      <th>1</th>\n",
              "      <td>0</td>\n",
              "      <td>3.9</td>\n",
              "      <td>-0.151388</td>\n",
              "      <td>-0.366005</td>\n",
              "      <td>-0.176007</td>\n",
              "      <td>0</td>\n",
              "      <td>-0.064419</td>\n",
              "      <td>1</td>\n",
              "      <td>12</td>\n",
              "    </tr>\n",
              "    <tr>\n",
              "      <th>2</th>\n",
              "      <td>0</td>\n",
              "      <td>4.7</td>\n",
              "      <td>-0.121828</td>\n",
              "      <td>-0.604659</td>\n",
              "      <td>-0.123084</td>\n",
              "      <td>0</td>\n",
              "      <td>-0.064419</td>\n",
              "      <td>1</td>\n",
              "      <td>9</td>\n",
              "    </tr>\n",
              "    <tr>\n",
              "      <th>3</th>\n",
              "      <td>0</td>\n",
              "      <td>4.5</td>\n",
              "      <td>-0.078063</td>\n",
              "      <td>0.129314</td>\n",
              "      <td>0.406145</td>\n",
              "      <td>0</td>\n",
              "      <td>-0.064419</td>\n",
              "      <td>4</td>\n",
              "      <td>9</td>\n",
              "    </tr>\n",
              "    <tr>\n",
              "      <th>4</th>\n",
              "      <td>0</td>\n",
              "      <td>4.3</td>\n",
              "      <td>-0.151388</td>\n",
              "      <td>-0.870330</td>\n",
              "      <td>-0.180712</td>\n",
              "      <td>0</td>\n",
              "      <td>-0.064419</td>\n",
              "      <td>1</td>\n",
              "      <td>11</td>\n",
              "    </tr>\n",
              "  </tbody>\n",
              "</table>\n",
              "</div>\n",
              "    <div class=\"colab-df-buttons\">\n",
              "\n",
              "  <div class=\"colab-df-container\">\n",
              "    <button class=\"colab-df-convert\" onclick=\"convertToInteractive('df-4195846e-953a-4126-96f4-8ab126e503f4')\"\n",
              "            title=\"Convert this dataframe to an interactive table.\"\n",
              "            style=\"display:none;\">\n",
              "\n",
              "  <svg xmlns=\"http://www.w3.org/2000/svg\" height=\"24px\" viewBox=\"0 -960 960 960\">\n",
              "    <path d=\"M120-120v-720h720v720H120Zm60-500h600v-160H180v160Zm220 220h160v-160H400v160Zm0 220h160v-160H400v160ZM180-400h160v-160H180v160Zm440 0h160v-160H620v160ZM180-180h160v-160H180v160Zm440 0h160v-160H620v160Z\"/>\n",
              "  </svg>\n",
              "    </button>\n",
              "\n",
              "  <style>\n",
              "    .colab-df-container {\n",
              "      display:flex;\n",
              "      gap: 12px;\n",
              "    }\n",
              "\n",
              "    .colab-df-convert {\n",
              "      background-color: #E8F0FE;\n",
              "      border: none;\n",
              "      border-radius: 50%;\n",
              "      cursor: pointer;\n",
              "      display: none;\n",
              "      fill: #1967D2;\n",
              "      height: 32px;\n",
              "      padding: 0 0 0 0;\n",
              "      width: 32px;\n",
              "    }\n",
              "\n",
              "    .colab-df-convert:hover {\n",
              "      background-color: #E2EBFA;\n",
              "      box-shadow: 0px 1px 2px rgba(60, 64, 67, 0.3), 0px 1px 3px 1px rgba(60, 64, 67, 0.15);\n",
              "      fill: #174EA6;\n",
              "    }\n",
              "\n",
              "    .colab-df-buttons div {\n",
              "      margin-bottom: 4px;\n",
              "    }\n",
              "\n",
              "    [theme=dark] .colab-df-convert {\n",
              "      background-color: #3B4455;\n",
              "      fill: #D2E3FC;\n",
              "    }\n",
              "\n",
              "    [theme=dark] .colab-df-convert:hover {\n",
              "      background-color: #434B5C;\n",
              "      box-shadow: 0px 1px 3px 1px rgba(0, 0, 0, 0.15);\n",
              "      filter: drop-shadow(0px 1px 2px rgba(0, 0, 0, 0.3));\n",
              "      fill: #FFFFFF;\n",
              "    }\n",
              "  </style>\n",
              "\n",
              "    <script>\n",
              "      const buttonEl =\n",
              "        document.querySelector('#df-4195846e-953a-4126-96f4-8ab126e503f4 button.colab-df-convert');\n",
              "      buttonEl.style.display =\n",
              "        google.colab.kernel.accessAllowed ? 'block' : 'none';\n",
              "\n",
              "      async function convertToInteractive(key) {\n",
              "        const element = document.querySelector('#df-4195846e-953a-4126-96f4-8ab126e503f4');\n",
              "        const dataTable =\n",
              "          await google.colab.kernel.invokeFunction('convertToInteractive',\n",
              "                                                    [key], {});\n",
              "        if (!dataTable) return;\n",
              "\n",
              "        const docLinkHtml = 'Like what you see? Visit the ' +\n",
              "          '<a target=\"_blank\" href=https://colab.research.google.com/notebooks/data_table.ipynb>data table notebook</a>'\n",
              "          + ' to learn more about interactive tables.';\n",
              "        element.innerHTML = '';\n",
              "        dataTable['output_type'] = 'display_data';\n",
              "        await google.colab.output.renderOutput(dataTable, element);\n",
              "        const docLink = document.createElement('div');\n",
              "        docLink.innerHTML = docLinkHtml;\n",
              "        element.appendChild(docLink);\n",
              "      }\n",
              "    </script>\n",
              "  </div>\n",
              "\n",
              "\n",
              "<div id=\"df-12ea0cb7-4829-46e6-b6b6-ff255b155138\">\n",
              "  <button class=\"colab-df-quickchart\" onclick=\"quickchart('df-12ea0cb7-4829-46e6-b6b6-ff255b155138')\"\n",
              "            title=\"Suggest charts\"\n",
              "            style=\"display:none;\">\n",
              "\n",
              "<svg xmlns=\"http://www.w3.org/2000/svg\" height=\"24px\"viewBox=\"0 0 24 24\"\n",
              "     width=\"24px\">\n",
              "    <g>\n",
              "        <path d=\"M19 3H5c-1.1 0-2 .9-2 2v14c0 1.1.9 2 2 2h14c1.1 0 2-.9 2-2V5c0-1.1-.9-2-2-2zM9 17H7v-7h2v7zm4 0h-2V7h2v10zm4 0h-2v-4h2v4z\"/>\n",
              "    </g>\n",
              "</svg>\n",
              "  </button>\n",
              "\n",
              "<style>\n",
              "  .colab-df-quickchart {\n",
              "      --bg-color: #E8F0FE;\n",
              "      --fill-color: #1967D2;\n",
              "      --hover-bg-color: #E2EBFA;\n",
              "      --hover-fill-color: #174EA6;\n",
              "      --disabled-fill-color: #AAA;\n",
              "      --disabled-bg-color: #DDD;\n",
              "  }\n",
              "\n",
              "  [theme=dark] .colab-df-quickchart {\n",
              "      --bg-color: #3B4455;\n",
              "      --fill-color: #D2E3FC;\n",
              "      --hover-bg-color: #434B5C;\n",
              "      --hover-fill-color: #FFFFFF;\n",
              "      --disabled-bg-color: #3B4455;\n",
              "      --disabled-fill-color: #666;\n",
              "  }\n",
              "\n",
              "  .colab-df-quickchart {\n",
              "    background-color: var(--bg-color);\n",
              "    border: none;\n",
              "    border-radius: 50%;\n",
              "    cursor: pointer;\n",
              "    display: none;\n",
              "    fill: var(--fill-color);\n",
              "    height: 32px;\n",
              "    padding: 0;\n",
              "    width: 32px;\n",
              "  }\n",
              "\n",
              "  .colab-df-quickchart:hover {\n",
              "    background-color: var(--hover-bg-color);\n",
              "    box-shadow: 0 1px 2px rgba(60, 64, 67, 0.3), 0 1px 3px 1px rgba(60, 64, 67, 0.15);\n",
              "    fill: var(--button-hover-fill-color);\n",
              "  }\n",
              "\n",
              "  .colab-df-quickchart-complete:disabled,\n",
              "  .colab-df-quickchart-complete:disabled:hover {\n",
              "    background-color: var(--disabled-bg-color);\n",
              "    fill: var(--disabled-fill-color);\n",
              "    box-shadow: none;\n",
              "  }\n",
              "\n",
              "  .colab-df-spinner {\n",
              "    border: 2px solid var(--fill-color);\n",
              "    border-color: transparent;\n",
              "    border-bottom-color: var(--fill-color);\n",
              "    animation:\n",
              "      spin 1s steps(1) infinite;\n",
              "  }\n",
              "\n",
              "  @keyframes spin {\n",
              "    0% {\n",
              "      border-color: transparent;\n",
              "      border-bottom-color: var(--fill-color);\n",
              "      border-left-color: var(--fill-color);\n",
              "    }\n",
              "    20% {\n",
              "      border-color: transparent;\n",
              "      border-left-color: var(--fill-color);\n",
              "      border-top-color: var(--fill-color);\n",
              "    }\n",
              "    30% {\n",
              "      border-color: transparent;\n",
              "      border-left-color: var(--fill-color);\n",
              "      border-top-color: var(--fill-color);\n",
              "      border-right-color: var(--fill-color);\n",
              "    }\n",
              "    40% {\n",
              "      border-color: transparent;\n",
              "      border-right-color: var(--fill-color);\n",
              "      border-top-color: var(--fill-color);\n",
              "    }\n",
              "    60% {\n",
              "      border-color: transparent;\n",
              "      border-right-color: var(--fill-color);\n",
              "    }\n",
              "    80% {\n",
              "      border-color: transparent;\n",
              "      border-right-color: var(--fill-color);\n",
              "      border-bottom-color: var(--fill-color);\n",
              "    }\n",
              "    90% {\n",
              "      border-color: transparent;\n",
              "      border-bottom-color: var(--fill-color);\n",
              "    }\n",
              "  }\n",
              "</style>\n",
              "\n",
              "  <script>\n",
              "    async function quickchart(key) {\n",
              "      const quickchartButtonEl =\n",
              "        document.querySelector('#' + key + ' button');\n",
              "      quickchartButtonEl.disabled = true;  // To prevent multiple clicks.\n",
              "      quickchartButtonEl.classList.add('colab-df-spinner');\n",
              "      try {\n",
              "        const charts = await google.colab.kernel.invokeFunction(\n",
              "            'suggestCharts', [key], {});\n",
              "      } catch (error) {\n",
              "        console.error('Error during call to suggestCharts:', error);\n",
              "      }\n",
              "      quickchartButtonEl.classList.remove('colab-df-spinner');\n",
              "      quickchartButtonEl.classList.add('colab-df-quickchart-complete');\n",
              "    }\n",
              "    (() => {\n",
              "      let quickchartButtonEl =\n",
              "        document.querySelector('#df-12ea0cb7-4829-46e6-b6b6-ff255b155138 button');\n",
              "      quickchartButtonEl.style.display =\n",
              "        google.colab.kernel.accessAllowed ? 'block' : 'none';\n",
              "    })();\n",
              "  </script>\n",
              "</div>\n",
              "\n",
              "    </div>\n",
              "  </div>\n"
            ]
          },
          "metadata": {},
          "execution_count": 30
        }
      ]
    },
    {
      "cell_type": "code",
      "source": [
        "# chia dữ liệu thành tập huấn luyện và tập kiểm tra\n",
        "# Xác định Biến Phụ Thuộc và Độc Lập:\n",
        "y = train_data['Rating']\n",
        "X = train_data.drop(columns=['Rating'])\n",
        "# Chia Dữ Liệu:\n",
        "X_train, X_test, y_train, y_test = train_test_split(X, y, test_size=0.2)\n",
        "# In Kích Thước của Tập Huấn Luyện và Tập Kiểm Tra:\n",
        "print(\"Training Set Dimensions:\", X_train.shape)\n",
        "print(\"Validation Set Dimensions:\", X_test.shape)"
      ],
      "metadata": {
        "colab": {
          "base_uri": "https://localhost:8080/"
        },
        "id": "4sD-e8h-O2hz",
        "outputId": "54c8c7ad-6480-4c3c-94fa-204487d3ecd5"
      },
      "execution_count": null,
      "outputs": [
        {
          "output_type": "stream",
          "name": "stdout",
          "text": [
            "Training Set Dimensions: (8671, 8)\n",
            "Validation Set Dimensions: (2168, 8)\n"
          ]
        }
      ]
    },
    {
      "cell_type": "markdown",
      "source": [
        "Tập huấn luyện (Training Set) có kích thước là 8671 dòng và 8 cột. Điều này có nghĩa là có 8671 mẫu dữ liệu được sử dụng để đào tạo mô hình, và mỗi mẫu có 8 đặc trưng (hoặc biến độc lập).\n",
        "\n",
        "Tập kiểm tra (Validation Set) có kích thước là 2168 dòng và 8 cột. Điều này có nghĩa là có 2168 mẫu dữ liệu được sử dụng để kiểm tra hiệu suất của mô hình, và mỗi mẫu cũng có 8 đặc trưng."
      ],
      "metadata": {
        "id": "P33kerhkhg0e"
      }
    },
    {
      "cell_type": "markdown",
      "source": [
        "**Random Forest Regressor**"
      ],
      "metadata": {
        "id": "u7A_nBBhh36G"
      }
    },
    {
      "cell_type": "code",
      "source": [
        "# Tạo và Đào Tạo Mô Hình:\n",
        "randomf = RandomForestRegressor(n_estimators=300)\n",
        "randomf.fit(X_train, y_train)\n",
        "\n",
        "# In giá trị Bình phương Sai trung bình cho tập Huấn luyện\n",
        "mse_train = mean_squared_error(y_train, randomf.predict(X_train))\n",
        "print('Bình phương Sai trung bình cho Tập Huấn luyện:', mse_train)\n",
        "\n",
        "# In giá trị Bình phương Sai trung bình cho tập Kiểm tra\n",
        "mse_test = mean_squared_error(y_test, randomf.predict(X_test))\n",
        "print('Bình phương Sai trung bình cho Tập Kiểm tra:', mse_test)"
      ],
      "metadata": {
        "colab": {
          "base_uri": "https://localhost:8080/"
        },
        "id": "LGoAwtq5O2fj",
        "outputId": "d5275e1f-204b-49f4-8798-69d27057ba1a"
      },
      "execution_count": null,
      "outputs": [
        {
          "output_type": "stream",
          "name": "stdout",
          "text": [
            "Bình phương Sai trung bình cho Tập Huấn luyện: 0.027528823062102845\n",
            "Bình phương Sai trung bình cho Tập Kiểm tra: 0.1992709997452272\n"
          ]
        }
      ]
    },
    {
      "cell_type": "markdown",
      "source": [
        "Mô hình sau đó được đào tạo trên tập huấn luyện (X_train, y_train), nơi mà nó học từ dữ liệu để có thể dự đoán giá trị y (trong trường hợp này, là 'Rating') dựa trên các đặc trưng X."
      ],
      "metadata": {
        "id": "gVDb2aYhic44"
      }
    },
    {
      "cell_type": "code",
      "source": [
        "# In ra độ quan trọng của các đặc trưng:\n",
        "for name, importance in zip(X.columns, randomf.feature_importances_):\n",
        "    print('feature:', name, \"=\", importance)\n",
        "\n",
        "importances = randomf.feature_importances_\n",
        "indices = np.argsort(importances)\n",
        "features = X.columns\n",
        "plt.figure(figsize=(6, 4))\n",
        "plt.title('Feature Importances')\n",
        "plt.barh(range(len(indices)), importances[indices], color='g', align='center')\n",
        "plt.yticks(range(len(indices)), [features[i] for i in indices])\n",
        "plt.xlabel('Relative Importance')\n",
        "plt.show()"
      ],
      "metadata": {
        "colab": {
          "base_uri": "https://localhost:8080/",
          "height": 549
        },
        "id": "WUxmi6T8O2c5",
        "outputId": "6df5ddfe-e546-4a02-d18e-672484466c0c"
      },
      "execution_count": null,
      "outputs": [
        {
          "output_type": "stream",
          "name": "stdout",
          "text": [
            "feature: Category = 0.09441773900305704\n",
            "feature: Reviews = 0.3518786182420044\n",
            "feature: Size = 0.2950805961119205\n",
            "feature: Installs = 0.09865539069781246\n",
            "feature: Type = 0.00501559593272933\n",
            "feature: Price = 0.022005419749065253\n",
            "feature: Content Rating = 0.025972151192530372\n",
            "feature: Genres = 0.10697448907088074\n"
          ]
        },
        {
          "output_type": "display_data",
          "data": {
            "text/plain": [
              "<Figure size 600x400 with 1 Axes>"
            ],
            "image/png": "[encoded data removed]"
          },
          "metadata": {}
        }
      ]
    },
    {
      "cell_type": "markdown",
      "source": [
        "Các giá trị trên thể hiện phần trăm đóng góp của mỗi đặc trưng vào quyết định của mô hình. Nhìn chung, có vẻ như Reviews, Size, và Genres đóng góp nhiều nhất vào quyết định của mô hình, trong khi Type và Price có đóng góp thấp hơn."
      ],
      "metadata": {
        "id": "n5iU46nOjmk6"
      }
    },
    {
      "cell_type": "markdown",
      "source": [
        "KNN Regressor"
      ],
      "metadata": {
        "id": "_YVyuqcBkf2f"
      }
    },
    {
      "cell_type": "code",
      "source": [
        "# Tạo và Đào tạo Mô hình KNeighborsRegressor\n",
        "knr = KNeighborsRegressor(n_neighbors=5)\n",
        "knr.fit(X_train, y_train)\n",
        "\n",
        "# Đánh giá hiệu suất bằng Bình phương Sai trung bình\n",
        "print('Bình phương Sai trung bình cho Tập Huấn luyện:', mean_squared_error(y_train, knr.predict(X_train)))\n",
        "print('Bình phương Sai trung bình cho Tập Kiểm tra:', mean_squared_error(y_test, knr.predict(X_test)))\n"
      ],
      "metadata": {
        "colab": {
          "base_uri": "https://localhost:8080/"
        },
        "id": "3vpY_dhlO2aS",
        "outputId": "d5abec7d-0d8e-4be9-b82a-3511c5d716f9"
      },
      "execution_count": null,
      "outputs": [
        {
          "output_type": "stream",
          "name": "stdout",
          "text": [
            "Bình phương Sai trung bình cho Tập Huấn luyện: 0.16020490269833168\n",
            "Bình phương Sai trung bình cho Tập Kiểm tra: 0.24956782406419503\n"
          ]
        }
      ]
    },
    {
      "cell_type": "code",
      "source": [
        "# Tạo và Đào tạo Mô hình Linear Regression\n",
        "model = LinearRegression()\n",
        "model.fit(X_train, y_train)\n",
        "\n",
        "# Đánh giá hiệu suất bằng Bình phương Sai trung bình\n",
        "print('Bình phương Sai trung bình cho Tập Huấn luyện:', mean_squared_error(y_train, model.predict(X_train)))\n",
        "print('Bình phương Sai trung bình cho Tập Kiểm tra:', mean_squared_error(y_test, model.predict(X_test)))\n"
      ],
      "metadata": {
        "colab": {
          "base_uri": "https://localhost:8080/"
        },
        "id": "iPNFHIjZO2Xj",
        "outputId": "5aadf189-b0d7-4e73-b4f9-df55e0ea25e5"
      },
      "execution_count": null,
      "outputs": [
        {
          "output_type": "stream",
          "name": "stdout",
          "text": [
            "Bình phương Sai trung bình cho Tập Huấn luyện: 0.22610836280395544\n",
            "Bình phương Sai trung bình cho Tập Kiểm tra: 0.22800484002972693\n"
          ]
        }
      ]
    },
    {
      "cell_type": "code",
      "source": [
        "import matplotlib.pyplot as plt\n",
        "from sklearn.tree import DecisionTreeRegressor, plot_tree\n",
        "\n",
        "# Tạo một mô hình cây quyết định cho bài toán hồi quy với độ sâu tối đa là 3\n",
        "regression_tree = DecisionTreeRegressor(max_depth=3)\n",
        "\n",
        "# Huấn luyện mô hình cây quyết định trên dữ liệu (X, y)\n",
        "regression_tree.fit(X, y)\n",
        "\n",
        "# Hiển thị biểu đồ cây quyết định\n",
        "plt.figure(figsize=(12, 6))\n",
        "plot_tree(regression_tree, filled=True, rounded=True)\n",
        "plt.title(\"Biểu đồ Cây Quyết Định cho Hồi Quy\")\n",
        "plt.show()\n"
      ],
      "metadata": {
        "id": "OQHch3SwmM1t",
        "outputId": "3ddce858-a305-40a5-bd97-26f2c55e491e",
        "colab": {
          "base_uri": "https://localhost:8080/",
          "height": 523
        }
      },
      "execution_count": null,
      "outputs": [
        {
          "output_type": "display_data",
          "data": {
            "text/plain": [
              "<Figure size 1200x600 with 1 Axes>"
            ],
            "image/png": "[encoded data removed]"
          },
          "metadata": {}
        }
      ]
    },
    {
      "cell_type": "code",
      "source": [
        "# Tạo một mô hình cây quyết định với độ sâu tối đa là 3\n",
        "regression_tree = DecisionTreeRegressor(max_depth=3)\n",
        "\n",
        "# Huấn luyện mô hình trên dữ liệu huấn luyện (X_train, y_train)\n",
        "regression_tree.fit(X_train, y_train)\n",
        "\n",
        "# Thực hiện dự đoán trên dữ liệu kiểm thử (X_test)\n",
        "y_pred = regression_tree.predict(X_test)\n",
        "\n",
        "# Đánh giá mô hình bằng cách tính Mean Squared Error (MSE)\n",
        "mse = mean_squared_error(y_test, y_pred)\n",
        "\n",
        "# In ra giá trị MSE để đánh giá chất lượng của mô hình\n",
        "print(f\"Mean Squared Error: {mse}\")\n"
      ],
      "metadata": {
        "id": "9dkZqzZaTlhY",
        "outputId": "3ecc328b-b21f-4c55-b4a0-73bcee765d02",
        "colab": {
          "base_uri": "https://localhost:8080/"
        }
      },
      "execution_count": null,
      "outputs": [
        {
          "output_type": "stream",
          "name": "stdout",
          "text": [
            "Mean Squared Error: 0.2119765164071762\n"
          ]
        }
      ]
    },
    {
      "cell_type": "code",
      "source": [
        "from sklearn.tree import DecisionTreeRegressor\n",
        "from sklearn.metrics import mean_squared_error\n",
        "\n",
        "# Tạo một list để lưu giá trị MSE cho mỗi độ sâu\n",
        "mse_values = []\n",
        "\n",
        "# Lặp qua các giá trị từ 3 đến 20 cho max_depth\n",
        "for depth in range(3, 21):\n",
        "    # Tạo mô hình cây quyết định với độ sâu là depth\n",
        "    regression_tree = DecisionTreeRegressor(max_depth=depth)\n",
        "\n",
        "    # Huấn luyện mô hình trên dữ liệu huấn luyện (X_train, y_train)\n",
        "    regression_tree.fit(X_train, y_train)\n",
        "\n",
        "    # Thực hiện dự đoán trên dữ liệu kiểm thử (X_test)\n",
        "    y_pred = regression_tree.predict(X_test)\n",
        "\n",
        "    # Đánh giá mô hình bằng cách tính Mean Squared Error (MSE)\n",
        "    mse = mean_squared_error(y_test, y_pred)\n",
        "\n",
        "    # In ra giá trị MSE để đánh giá chất lượng của mô hình\n",
        "    print(f\"Max Depth: {depth}, Mean Squared Error: {mse}\")\n",
        "\n",
        "    # Lưu giá trị MSE vào list\n",
        "    mse_values.append(mse)\n"
      ],
      "metadata": {
        "colab": {
          "base_uri": "https://localhost:8080/"
        },
        "id": "veURJhGJcKrn",
        "outputId": "156a235f-25ac-4483-f0c3-c2278ebd7fa9"
      },
      "execution_count": null,
      "outputs": [
        {
          "output_type": "stream",
          "name": "stdout",
          "text": [
            "Max Depth: 3, Mean Squared Error: 0.2119765164071763\n",
            "Max Depth: 4, Mean Squared Error: 0.20936069173896468\n",
            "Max Depth: 5, Mean Squared Error: 0.20779751045431874\n",
            "Max Depth: 6, Mean Squared Error: 0.20772782113121646\n",
            "Max Depth: 7, Mean Squared Error: 0.21188749748403238\n",
            "Max Depth: 8, Mean Squared Error: 0.21902834522675413\n",
            "Max Depth: 9, Mean Squared Error: 0.22750104217081002\n",
            "Max Depth: 10, Mean Squared Error: 0.24079648207911464\n",
            "Max Depth: 11, Mean Squared Error: 0.24778146590847255\n",
            "Max Depth: 12, Mean Squared Error: 0.2566296021352703\n",
            "Max Depth: 13, Mean Squared Error: 0.26681188806311157\n",
            "Max Depth: 14, Mean Squared Error: 0.27643385889720923\n",
            "Max Depth: 15, Mean Squared Error: 0.287117193966967\n",
            "Max Depth: 16, Mean Squared Error: 0.2940765502729639\n",
            "Max Depth: 17, Mean Squared Error: 0.3163079598246589\n",
            "Max Depth: 18, Mean Squared Error: 0.3188510010186719\n",
            "Max Depth: 19, Mean Squared Error: 0.33456551324178785\n",
            "Max Depth: 20, Mean Squared Error: 0.3356326098494601\n"
          ]
        }
      ]
    },
    {
      "cell_type": "code",
      "source": [
        "from sklearn.model_selection import cross_val_score\n",
        "\n",
        "# Sử dụng model đã được đào tạo từ trước đó\n",
        "scores = cross_val_score(model, X_train, y_train, cv=5, scoring='neg_mean_squared_error')\n",
        "\n",
        "mean_score = -scores.mean()  # Chuyển đổi sang giá trị dương để có Mean Squared Error\n",
        "\n",
        "print(f'Cross-Validation Mean Score: {mean_score}')\n"
      ],
      "metadata": {
        "id": "Nn9mMEz7T0fS",
        "outputId": "e734b5e0-eb8f-4c5b-bb63-c39a9d430af4",
        "colab": {
          "base_uri": "https://localhost:8080/"
        }
      },
      "execution_count": null,
      "outputs": [
        {
          "output_type": "stream",
          "name": "stdout",
          "text": [
            "Cross-Validation Mean Score: 0.226429505641768\n"
          ]
        }
      ]
    },
    {
      "cell_type": "code",
      "source": [
        "from sklearn.model_selection import cross_val_score\n",
        "from sklearn.preprocessing import StandardScaler\n",
        "\n",
        "# Đào tạo mô hình rf_model\n",
        "rf_model = RandomForestRegressor()\n",
        "X_train = StandardScaler().fit_transform(X_train)\n",
        "y_train_scaled = StandardScaler().fit_transform(y_train.to_numpy().reshape(-1, 1))\n",
        "rf_model.fit(X_train, y_train_scaled)\n",
        "\n",
        "# Sử dụng rf_model đã được đào tạo từ trước đó\n",
        "scores = cross_val_score(rf_model, X_train, y_train_scaled.ravel(), cv=5, scoring='neg_mean_squared_error')\n",
        "\n",
        "mean_score = -scores.mean()  # Chuyển đổi sang giá trị dương để có Mean Squared Error\n",
        "\n",
        "print(f'Cross-Validation Mean Score: {mean_score}')"
      ],
      "metadata": {
        "colab": {
          "base_uri": "https://localhost:8080/"
        },
        "id": "6zfKH-iI3R9F",
        "outputId": "71191bb5-f416-452b-8b5d-63fe526fdfdf"
      },
      "execution_count": null,
      "outputs": [
        {
          "output_type": "stream",
          "name": "stdout",
          "text": [
            "Cross-Validation Mean Score: 0.8833032268436332\n"
          ]
        }
      ]
    },
    {
      "cell_type": "code",
      "source": [],
      "metadata": {
        "id": "tZGlBPdo3tAC"
      },
      "execution_count": null,
      "outputs": []
    }
  ]
}